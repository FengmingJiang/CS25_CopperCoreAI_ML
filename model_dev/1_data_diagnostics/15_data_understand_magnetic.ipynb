{
 "cells": [
  {
   "cell_type": "markdown",
   "metadata": {},
   "source": [
    "# Magnetic Raster Data Diagnostic\n",
    "\n",
    "This notebook explores and visualizes **magnetic anomaly GeoTIFF files** before merging with point sample data. It helps understand spatial extent, distribution of magnetic values at different upward continuation depths, and preprocessing implications.\n",
    "\n",
    "## 1.Magnetic Data Files\n",
    "We examine these total magnetic intensity (TMI) upward continued grids from the AWAGS 2019 dataset:\n",
    "\n",
    "| File Name | Feature Name | Depth Range | Description |\n",
    "|-----------|--------------|--------------|-------------|\n",
    "| `UC1km2kmRes` | `mag_uc_1_2km` | 1–2 km | Shallow sources enhanced |\n",
    "| `UC2km4kmRes` | `mag_uc_2_4km` | 2–4 km | Intermediate anomalies |\n",
    "| `UC4km8kmRes` | `mag_uc_4_8km` | 4–8 km | Balanced deeper features |\n",
    "| `UC8km12kmRes` | `mag_uc_8_12km` | 8–12 km | Deep crustal trends |\n",
    "| `UC12km16kmRes` | `mag_uc_12_16km` | 12–16 km | Regional tectonics emphasis |"
   ]
  },
  {
   "cell_type": "markdown",
   "metadata": {},
   "source": [
    "## 2.Raster Metadata Inspection"
   ]
  },
  {
   "cell_type": "code",
   "execution_count": 1,
   "metadata": {},
   "outputs": [],
   "source": [
    "import rasterio\n",
    "from rasterio.plot import show\n",
    "import matplotlib.pyplot as plt\n",
    "import numpy as np\n",
    "\n",
    "def inspect_magnetic_tif(path, title=\"Magnetic Anomaly\"):\n",
    "    with rasterio.open(path) as src:\n",
    "        print(f\"\\n=== {title} ===\")\n",
    "        print(\"CRS:\", src.crs)\n",
    "        print(\"Transform:\", src.transform)\n",
    "        print(\"Bounds:\", src.bounds)\n",
    "        print(\"Size:\", src.width, \"x\", src.height)\n",
    "        print(\"NoData:\", src.nodata)\n",
    "        band = src.read(1)\n",
    "        band = np.where(band == src.nodata, np.nan, band)\n",
    "        print(\"Value Range:\", np.nanmin(band), \"to\", np.nanmax(band))\n",
    "        show(src, title=title)"
   ]
  },
  {
   "cell_type": "code",
   "execution_count": 2,
   "metadata": {},
   "outputs": [],
   "source": [
    "def plot_pixel_distribution(band, nodata, title):\n",
    "    values = band[band != nodata]\n",
    "    plt.figure(figsize=(7, 4))\n",
    "    plt.hist(values, bins=100, color=\"salmon\", edgecolor=\"black\")\n",
    "    plt.title(title)\n",
    "    plt.xlabel(\"Magnetic Anomaly (nT)\")\n",
    "    plt.ylabel(\"Pixel Count\")\n",
    "    plt.grid(True)\n",
    "    plt.show()"
   ]
  },
  {
   "cell_type": "markdown",
   "metadata": {},
   "source": [
    "## 3.Example Analysis"
   ]
  },
  {
   "cell_type": "code",
   "execution_count": null,
   "metadata": {},
   "outputs": [
    {
     "name": "stdout",
     "output_type": "stream",
     "text": [
      "\n",
      "=== Magnetic Anomaly (4–8 km UC) ===\n",
      "CRS: GEOGCS[\"GDA94\",DATUM[\"unnamed\",SPHEROID[\"unnamed\",6378137,298.257222101004]],PRIMEM[\"Greenwich\",0],UNIT[\"degree\",0.0174532925199433,AUTHORITY[\"EPSG\",\"9122\"]],AXIS[\"Latitude\",NORTH],AXIS[\"Longitude\",EAST]]\n",
      "Transform: | 0.00, 0.00, 111.00|\n",
      "| 0.00,-0.00,-9.03|\n",
      "| 0.00, 0.00, 1.00|\n",
      "Bounds: BoundingBox(left=110.99980000000001, bottom=-43.930550000000004, right=154.66430000000003, top=-9.026150000000001)\n",
      "Size: 51370 x 41064\n",
      "NoData: -99999.0\n",
      "Value Range: -1140.7755 to 2208.453\n"
     ]
    }
   ],
   "source": [
    "file_path = \"../../data/raw/Dataset/GA/Magnetic/Magmap2019-grid-tmi_rtp_upcon-UC4km8kmRes-AWAGS_MAG_2019.tif\"\n",
    "\n",
    "with rasterio.open(file_path) as src:\n",
    "    band = src.read(1)\n",
    "    nodata = src.nodata\n",
    "    inspect_magnetic_tif(file_path, title=\"Magnetic Anomaly (4–8 km UC)\")"
   ]
  }
 ],
 "metadata": {
  "kernelspec": {
   "display_name": "geoenv",
   "language": "python",
   "name": "python3"
  },
  "language_info": {
   "codemirror_mode": {
    "name": "ipython",
    "version": 3
   },
   "file_extension": ".py",
   "mimetype": "text/x-python",
   "name": "python",
   "nbconvert_exporter": "python",
   "pygments_lexer": "ipython3",
   "version": "3.10.6"
  }
 },
 "nbformat": 4,
 "nbformat_minor": 2
}
