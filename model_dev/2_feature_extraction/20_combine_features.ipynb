{
 "cells": [
  {
   "cell_type": "markdown",
   "metadata": {},
   "source": []
  },
  {
   "cell_type": "code",
   "execution_count": null,
   "metadata": {},
   "outputs": [],
   "source": [
    "import rasterio\n",
    "\n",
    "def inspect_geotiff_metadata(tif_path):\n",
    "    with rasterio.open(tif_path) as src:\n",
    "        print(f\" File: {tif_path}\")\n",
    "        print(\" CRS:\", src.crs)\n",
    "        print(\" Transform (Affine):\", src.transform)\n",
    "        print(\" Bounds:\", src.bounds)\n",
    "        print(\" Bands:\", src.count)\n",
    "        print(\" Data type:\", src.dtypes)\n",
    "        print(\" NoData value:\", src.nodata)\n",
    "        print(\" Width × Height (pixels):\", src.width, \"×\", src.height)\n",
    "        \n",
    "        for i in range(1, src.count + 1):\n",
    "            band = src.read(i)\n",
    "            print(f\" Band {i}: min = {band.min()}, max = {band.max()}\")\n",
    "        print(\"-\" * 50)\n"
   ]
  },
  {
   "cell_type": "code",
   "execution_count": null,
   "metadata": {},
   "outputs": [],
   "source": [
    "import pandas as pd\n",
    "import geopandas as gpd\n",
    "import rasterio\n",
    "from shapely.geometry import Point\n",
    "\n",
    "\n",
    "def extract_geotiff_features(df, lat_col, lon_col, tif_dict):\n",
    "    \"\"\"\n",
    "    Extract features from geotiff files\n",
    "    \"\"\"\n",
    "    gdf = gpd.GeoDataFrame(\n",
    "        df.copy(),\n",
    "        geometry=[Point(xy) for xy in zip(df[lon_col], df[lat_col])],\n",
    "        crs=\"EPSG:4326\"\n",
    "    )\n",
    "\n",
    "    for feature_name, tif_path in tif_dict.items():\n",
    "        print(f\"Extracting: {feature_name} from {tif_path}\")\n",
    "        with rasterio.open(tif_path) as src:\n",
    "            band = src.read(1) \n",
    "            nodata = src.nodata\n",
    "            transform = src.transform\n",
    "\n",
    "            def get_value(row):\n",
    "                try:\n",
    "                    row_idx, col_idx = src.index(row[lon_col], row[lat_col])\n",
    "                    val = band[row_idx, col_idx]\n",
    "                    return None if (val == nodata or val < -99900) else val\n",
    "                except:\n",
    "                    return None\n",
    "\n",
    "            gdf[feature_name] = gdf.apply(get_value, axis=1)\n",
    "\n",
    "    return gdf.drop(columns=[\"geometry\"])\n",
    "\n"
   ]
  },
  {
   "cell_type": "markdown",
   "metadata": {},
   "source": [
    "## 1.Gravity Data Extraction\n",
    "\n",
    "We extracted key gravity features from three high-resolution GeoTIFF grids provided by Geoscience Australia, covering different aspects of the Earth's crustal density variations. These datasets are georeferenced, gridded products representing gravity anomalies across Australia and were sampled at each training point’s latitude and longitude.\n",
    "\n",
    "Each GeoTIFF contains one raster band (float32) with a known NoData value, which we masked during processing.\n",
    "\n",
    "| Feature Name          | Source File                          | Description |\n",
    "|-----------------------|---------------------------------------|-------------|\n",
    "| `gravity_iso_residual` | `Gravmap2016-grid-grv_ir.tif`         | Isostatic residual anomaly — reflects shallow density anomalies after isostatic correction. Highlights features like intrusions or potential ore bodies. |\n",
    "| `gravity_cscba`        | `Gravmap2019-grid-grv_cscba.tif`      | Complete Spherical Cap Bouguer Anomaly (CSCBA) — represents full Bouguer anomaly adjusted with a spherical cap correction, providing insight into regional deep crustal structures. |\n",
    "| `gravity_cscba_1vd`    | `Gravmap2019-grid-grv_cscba_1vd.tif`  | First vertical derivative of CSCBA — emphasizes structural boundaries such as faults and intrusive contacts. Useful for enhancing linear geological features. |\n",
    "\n",
    "\n",
    "\n",
    "**Processing Notes**\n",
    "\n",
    "- All values were extracted using rasterio and matched to sample locations via geographic coordinates.\n",
    "\n",
    "- Any values equal to or less than the NoData threshold (e.g. -99999.0) were excluded.\n",
    "\n",
    "- The final gravity features were appended to the training dataset as new columns.\n",
    "\n",
    "- No normalization or transformation was applied at this stage, leaving it flexible for later preprocessing (e.g., standardization)."
   ]
  },
  {
   "cell_type": "code",
   "execution_count": 1,
   "metadata": {},
   "outputs": [],
   "source": [
    "gravity_iso_residual = \"../data/raw/Dataset/GA/Gravity/Gravmap2016-grid-grv_ir.tif\"\n",
    "gravity_cscba = \"../data/raw/Dataset/GA/Gravity/Gravmap2019-grid-grv_cscba.tif\"\n",
    "gravity_cscba_1vd = \"../data/raw/Dataset/GA/Gravity/Gravmap2019-grid-grv_cscba_1vd.tif\""
   ]
  },
  {
   "cell_type": "code",
   "execution_count": 3,
   "metadata": {},
   "outputs": [
    {
     "name": "stdout",
     "output_type": "stream",
     "text": [
      " File: ../data/raw/Dataset/GA/Gravity/Gravmap2016-grid-grv_ir.tif\n",
      " CRS: GEOGCS[\"GDA94\",DATUM[\"unnamed\",SPHEROID[\"unnamed\",6378137,298.257222101004]],PRIMEM[\"Greenwich\",0],UNIT[\"degree\",0.0174532925199433,AUTHORITY[\"EPSG\",\"9122\"]],AXIS[\"Latitude\",NORTH],AXIS[\"Longitude\",EAST]]\n",
      " Transform (Affine): | 0.01, 0.00, 112.50|\n",
      "| 0.00,-0.01,-10.10|\n",
      "| 0.00, 0.00, 1.00|\n",
      " Bounds: BoundingBox(left=112.4975, bottom=-44.268, right=154.173, top=-10.098)\n",
      " Bands: 1\n",
      " Data type: ('float32',)\n",
      " NoData value: -99999.0\n",
      " Width × Height (pixels): 4903 × 4020\n",
      " Band 1: min = -99999.0, max = 1167.243896484375\n",
      "--------------------------------------------------\n",
      " File: ../data/raw/Dataset/GA/Gravity/Gravmap2019-grid-grv_cscba.tif\n",
      " CRS: GEOGCS[\"GDA94\",DATUM[\"unnamed\",SPHEROID[\"unnamed\",6378137,298.257222101004]],PRIMEM[\"Greenwich\",0],UNIT[\"degree\",0.0174532925199433,AUTHORITY[\"EPSG\",\"9122\"]],AXIS[\"Latitude\",NORTH],AXIS[\"Longitude\",EAST]]\n",
      " Transform (Affine): | 0.00, 0.00, 111.00|\n",
      "| 0.00,-0.00,-8.00|\n",
      "| 0.00, 0.00, 1.00|\n",
      " Bounds: BoundingBox(left=110.99600000000001, bottom=-45.0, right=156.0, top=-8.0)\n",
      " Bands: 1\n",
      " Data type: ('float32',)\n",
      " NoData value: -999999.0\n",
      " Width × Height (pixels): 11251 × 9250\n",
      " Band 1: min = -1694.2098388671875, max = 4276.5400390625\n",
      "--------------------------------------------------\n",
      " File: ../data/raw/Dataset/GA/Gravity/Gravmap2019-grid-grv_cscba_1vd.tif\n",
      " CRS: GEOGCS[\"GDA94\",DATUM[\"unnamed\",SPHEROID[\"unnamed\",6378137,298.257222101004]],PRIMEM[\"Greenwich\",0],UNIT[\"degree\",0.0174532925199433,AUTHORITY[\"EPSG\",\"9122\"]],AXIS[\"Latitude\",NORTH],AXIS[\"Longitude\",EAST]]\n",
      " Transform (Affine): | 0.00, 0.00, 111.00|\n",
      "| 0.00,-0.00,-8.00|\n",
      "| 0.00, 0.00, 1.00|\n",
      " Bounds: BoundingBox(left=110.99600000000001, bottom=-45.0, right=156.0, top=-8.0)\n",
      " Bands: 1\n",
      " Data type: ('float32',)\n",
      " NoData value: -99999.0\n",
      " Width × Height (pixels): 11251 × 9250\n",
      " Band 1: min = -134624.59375, max = 117166.8828125\n",
      "--------------------------------------------------\n"
     ]
    }
   ],
   "source": [
    "inspect_geotiff_metadata(gravity_iso_residual)\n",
    "inspect_geotiff_metadata(gravity_cscba)\n",
    "inspect_geotiff_metadata(gravity_cscba_1vd)"
   ]
  },
  {
   "cell_type": "code",
   "execution_count": 5,
   "metadata": {},
   "outputs": [
    {
     "name": "stdout",
     "output_type": "stream",
     "text": [
      "Extracting: gravity_iso_residual from ../data/raw/Dataset/GA/Gravity/Gravmap2016-grid-grv_ir.tif\n",
      "Extracting: gravity_cscba from ../data/raw/Dataset/GA/Gravity/Gravmap2019-grid-grv_cscba.tif\n",
      "Extracting: gravity_cscba_1vd from ../data/raw/Dataset/GA/Gravity/Gravmap2019-grid-grv_cscba_1vd.tif\n",
      "Saved as final_samples_with_gravity.csv\n"
     ]
    }
   ],
   "source": [
    "df = pd.read_csv(\"../data/processed/final_samples_balanced.csv\")\n",
    "\n",
    "tif_paths = {\n",
    "    \"gravity_iso_residual\": \"../data/raw/Dataset/GA/Gravity/Gravmap2016-grid-grv_ir.tif\",\n",
    "    \"gravity_cscba\": \"../data/raw/Dataset/GA/Gravity/Gravmap2019-grid-grv_cscba.tif\",\n",
    "    \"gravity_cscba_1vd\": \"../data/raw/Dataset/GA/Gravity/Gravmap2019-grid-grv_cscba_1vd.tif\"\n",
    "}\n",
    "\n",
    "df_with_gravity = extract_geotiff_features(\n",
    "    df=df,\n",
    "    lat_col=\"LATITUDE\",\n",
    "    lon_col=\"LONGITUDE\",\n",
    "    tif_dict=tif_paths\n",
    ")\n",
    "\n",
    "df_with_gravity.to_csv(\"../data/processed/final_samples_with_gravity.csv\", index=False)\n",
    "print(\"Saved as final_samples_with_gravity.csv\")"
   ]
  },
  {
   "cell_type": "markdown",
   "metadata": {},
   "source": [
    "## 2.Magnetic Features Extraction\n",
    "\n",
    "We extracted magnetic anomaly features from the AWAGS_MAG_2019 dataset provided by Geoscience Australia. These GeoTIFF grids represent upward continued Total Magnetic Intensity (TMI) data that have been Reduced to the Pole (RTP) and smoothed at varying vertical levels. Each upward continuation depth highlights magnetic responses at a specific crustal level and is valuable for identifying both shallow and deep-seated geological structures related to porphyry copper systems.\n",
    "\n",
    "Each raster file contains:\n",
    "\n",
    "- A single float32 band of TMI values (in nanoTesla, approximate)\n",
    "\n",
    "- A geographic coordinate system (GDA94)\n",
    "\n",
    "- A high spatial resolution grid (~0.00085° per pixel)\n",
    "\n",
    "- A consistent NoData value of -99999.0 (which we masked out during processing)\n",
    "\n",
    "The following magnetic features were extracted by sampling each raster at the sample point coordinates (LATITUDE, LONGITUDE) and appended to the dataset:\n",
    "\n",
    "| Feature Name      | Upward Continuation Depth | Interpretation                          |\n",
    "|-------------------|----------------------------|------------------------------------------|\n",
    "| `mag_uc_1_2km`    | 1–2 km                     | Emphasizes shallow magnetic sources      |\n",
    "| `mag_uc_2_4km`    | 2–4 km                     | Intermediate-scale structures            |\n",
    "| `mag_uc_4_8km`    | 4–8 km                     | Balanced view of deeper features         |\n",
    "| `mag_uc_8_12km`   | 8–12 km                    | Highlights deep crustal trends           |\n",
    "| `mag_uc_12_16km`  | 12–16 km                   | Emphasizes regional tectonic patterns    |\n",
    "\n",
    "\n",
    "These features provide multi-scale magnetic context, allowing the machine learning model to learn from both surface and subsurface magnetic patterns.\n",
    "\n",
    "We recommend:\n",
    "\n",
    "- Applying Z-score standardization to each magnetic feature;\n",
    "\n",
    "- Masking or imputing NoData values prior to modeling.\n"
   ]
  },
  {
   "cell_type": "code",
   "execution_count": 6,
   "metadata": {},
   "outputs": [],
   "source": [
    "mag_uc_1_2km = \"../data/raw/Dataset/GA/Magnetic/Magmap2019-grid-tmi_rtp_upcon-UC1km2kmRes-AWAGS_MAG_2019.tif\"\n",
    "mag_uc_2_4km = \"../data/raw/Dataset/GA/Magnetic/Magmap2019-grid-tmi_rtp_upcon-UC2km4kmRes-AWAGS_MAG_2019.tif\"\n",
    "mag_uc_4_8km = \"../data/raw/Dataset/GA/Magnetic/Magmap2019-grid-tmi_rtp_upcon-UC4km8kmRes-AWAGS_MAG_2019.tif\"\n",
    "mag_uc_8_12km = \"../data/raw/Dataset/GA/Magnetic/Magmap2019-grid-tmi_rtp_upcon-UC8km12kmRes-AWAGS_MAG_2019.tif\"\n",
    "mag_uc_12_16km = \"../data/raw/Dataset/GA/Magnetic/Magmap2019-grid-tmi_rtp_upcon-UC12km16kmRes-AWAGS_MAG_2019.tif\""
   ]
  },
  {
   "cell_type": "code",
   "execution_count": null,
   "metadata": {},
   "outputs": [
    {
     "name": "stdout",
     "output_type": "stream",
     "text": [
      " File: ../data/raw/Dataset/GA/Magnetic/Magmap2019-grid-tmi_rtp_upcon-UC1km2kmRes-AWAGS_MAG_2019.tif\n",
      " CRS: GEOGCS[\"GDA94\",DATUM[\"unnamed\",SPHEROID[\"unnamed\",6378137,298.257222101004]],PRIMEM[\"Greenwich\",0],UNIT[\"degree\",0.0174532925199433,AUTHORITY[\"EPSG\",\"9122\"]],AXIS[\"Latitude\",NORTH],AXIS[\"Longitude\",EAST]]\n",
      " Transform (Affine): | 0.00, 0.00, 111.00|\n",
      "| 0.00,-0.00,-9.03|\n",
      "| 0.00, 0.00, 1.00|\n",
      " Bounds: BoundingBox(left=110.99980000000001, bottom=-43.930550000000004, right=154.66430000000003, top=-9.026150000000001)\n",
      " Bands: 1\n",
      " Data type: ('float32',)\n",
      " NoData value: -99999.0\n",
      " Width × Height (pixels): 51370 × 41064\n",
      " Band 1: min = -99999.0, max = 6989.29443359375\n",
      "--------------------------------------------------\n",
      " File: ../data/raw/Dataset/GA/Magnetic/Magmap2019-grid-tmi_rtp_upcon-UC2km4kmRes-AWAGS_MAG_2019.tif\n",
      " CRS: GEOGCS[\"GDA94\",DATUM[\"unnamed\",SPHEROID[\"unnamed\",6378137,298.257222101004]],PRIMEM[\"Greenwich\",0],UNIT[\"degree\",0.0174532925199433,AUTHORITY[\"EPSG\",\"9122\"]],AXIS[\"Latitude\",NORTH],AXIS[\"Longitude\",EAST]]\n",
      " Transform (Affine): | 0.00, 0.00, 111.00|\n",
      "| 0.00,-0.00,-9.03|\n",
      "| 0.00, 0.00, 1.00|\n",
      " Bounds: BoundingBox(left=110.99980000000001, bottom=-43.930550000000004, right=154.66430000000003, top=-9.026150000000001)\n",
      " Bands: 1\n",
      " Data type: ('float32',)\n",
      " NoData value: -99999.0\n",
      " Width × Height (pixels): 51370 × 41064\n",
      " Band 1: min = -99999.0, max = 4111.4140625\n",
      "--------------------------------------------------\n",
      " File: ../data/raw/Dataset/GA/Magnetic/Magmap2019-grid-tmi_rtp_upcon-UC4km8kmRes-AWAGS_MAG_2019.tif\n",
      " CRS: GEOGCS[\"GDA94\",DATUM[\"unnamed\",SPHEROID[\"unnamed\",6378137,298.257222101004]],PRIMEM[\"Greenwich\",0],UNIT[\"degree\",0.0174532925199433,AUTHORITY[\"EPSG\",\"9122\"]],AXIS[\"Latitude\",NORTH],AXIS[\"Longitude\",EAST]]\n",
      " Transform (Affine): | 0.00, 0.00, 111.00|\n",
      "| 0.00,-0.00,-9.03|\n",
      "| 0.00, 0.00, 1.00|\n",
      " Bounds: BoundingBox(left=110.99980000000001, bottom=-43.930550000000004, right=154.66430000000003, top=-9.026150000000001)\n",
      " Bands: 1\n",
      " Data type: ('float32',)\n",
      " NoData value: -99999.0\n",
      " Width × Height (pixels): 51370 × 41064\n",
      " Band 1: min = -99999.0, max = 2208.452880859375\n",
      "--------------------------------------------------\n",
      " File: ../data/raw/Dataset/GA/Magnetic/Magmap2019-grid-tmi_rtp_upcon-UC8km12kmRes-AWAGS_MAG_2019.tif\n",
      " CRS: GEOGCS[\"GDA94\",DATUM[\"unnamed\",SPHEROID[\"unnamed\",6378137,298.257222101004]],PRIMEM[\"Greenwich\",0],UNIT[\"degree\",0.0174532925199433,AUTHORITY[\"EPSG\",\"9122\"]],AXIS[\"Latitude\",NORTH],AXIS[\"Longitude\",EAST]]\n",
      " Transform (Affine): | 0.00, 0.00, 111.00|\n",
      "| 0.00,-0.00,-9.03|\n",
      "| 0.00, 0.00, 1.00|\n",
      " Bounds: BoundingBox(left=110.99980000000001, bottom=-43.930550000000004, right=154.66430000000003, top=-9.026150000000001)\n",
      " Bands: 1\n",
      " Data type: ('float32',)\n",
      " NoData value: -99999.0\n",
      " Width × Height (pixels): 51370 × 41064\n",
      " Band 1: min = -99999.0, max = 687.9307861328125\n",
      "--------------------------------------------------\n",
      " File: ../data/raw/Dataset/GA/Magnetic/Magmap2019-grid-tmi_rtp_upcon-UC12km16kmRes-AWAGS_MAG_2019.tif\n",
      " CRS: GEOGCS[\"GDA94\",DATUM[\"unnamed\",SPHEROID[\"unnamed\",6378137,298.257222101004]],PRIMEM[\"Greenwich\",0],UNIT[\"degree\",0.0174532925199433,AUTHORITY[\"EPSG\",\"9122\"]],AXIS[\"Latitude\",NORTH],AXIS[\"Longitude\",EAST]]\n",
      " Transform (Affine): | 0.00, 0.00, 111.00|\n",
      "| 0.00,-0.00,-9.03|\n",
      "| 0.00, 0.00, 1.00|\n",
      " Bounds: BoundingBox(left=110.99980000000001, bottom=-43.930550000000004, right=154.66430000000003, top=-9.026150000000001)\n",
      " Bands: 1\n",
      " Data type: ('float32',)\n",
      " NoData value: -99999.0\n",
      " Width × Height (pixels): 51370 × 41064\n",
      " Band 1: min = -99999.0, max = 337.78594970703125\n",
      "--------------------------------------------------\n"
     ]
    }
   ],
   "source": [
    "inspect_geotiff_metadata(mag_uc_1_2km)\n",
    "inspect_geotiff_metadata(mag_uc_2_4km)\n",
    "inspect_geotiff_metadata(mag_uc_4_8km)\n",
    "inspect_geotiff_metadata(mag_uc_8_12km)\n",
    "inspect_geotiff_metadata(mag_uc_12_16km)"
   ]
  },
  {
   "cell_type": "code",
   "execution_count": 7,
   "metadata": {},
   "outputs": [],
   "source": [
    "tif_paths_mag = {\n",
    "    \"mag_uc_1_2km\": \"../data/raw/Dataset/GA/Magnetic/Magmap2019-grid-tmi_rtp_upcon-UC1km2kmRes-AWAGS_MAG_2019.tif\",\n",
    "    \"mag_uc_2_4km\": \"../data/raw/Dataset/GA/Magnetic/Magmap2019-grid-tmi_rtp_upcon-UC2km4kmRes-AWAGS_MAG_2019.tif\",\n",
    "    \"mag_uc_4_8km\": \"../data/raw/Dataset/GA/Magnetic/Magmap2019-grid-tmi_rtp_upcon-UC4km8kmRes-AWAGS_MAG_2019.tif\",\n",
    "    \"mag_uc_8_12km\": \"../data/raw/Dataset/GA/Magnetic/Magmap2019-grid-tmi_rtp_upcon-UC8km12kmRes-AWAGS_MAG_2019.tif\",\n",
    "    \"mag_uc_12_16km\": \"../data/raw/Dataset/GA/Magnetic/Magmap2019-grid-tmi_rtp_upcon-UC12km16kmRes-AWAGS_MAG_2019.tif\"\n",
    "}"
   ]
  },
  {
   "cell_type": "code",
   "execution_count": 8,
   "metadata": {},
   "outputs": [
    {
     "name": "stdout",
     "output_type": "stream",
     "text": [
      "Extracting: mag_uc_1_2km from ../data/raw/Dataset/GA/Magnetic/Magmap2019-grid-tmi_rtp_upcon-UC1km2kmRes-AWAGS_MAG_2019.tif\n",
      "Extracting: mag_uc_2_4km from ../data/raw/Dataset/GA/Magnetic/Magmap2019-grid-tmi_rtp_upcon-UC2km4kmRes-AWAGS_MAG_2019.tif\n",
      "Extracting: mag_uc_4_8km from ../data/raw/Dataset/GA/Magnetic/Magmap2019-grid-tmi_rtp_upcon-UC4km8kmRes-AWAGS_MAG_2019.tif\n",
      "Extracting: mag_uc_8_12km from ../data/raw/Dataset/GA/Magnetic/Magmap2019-grid-tmi_rtp_upcon-UC8km12kmRes-AWAGS_MAG_2019.tif\n",
      "Extracting: mag_uc_12_16km from ../data/raw/Dataset/GA/Magnetic/Magmap2019-grid-tmi_rtp_upcon-UC12km16kmRes-AWAGS_MAG_2019.tif\n",
      "Saved: final_samples_with_gravity_magnetics.csv\n"
     ]
    }
   ],
   "source": [
    "df_with_gravity = pd.read_csv(\"../data/processed/final_samples_with_gravity.csv\")\n",
    "df_with_magnetics = extract_geotiff_features(\n",
    "    df=df_with_gravity,\n",
    "    lat_col=\"LATITUDE\",\n",
    "    lon_col=\"LONGITUDE\",\n",
    "    tif_dict=tif_paths_mag\n",
    ")\n",
    "\n",
    "df_with_magnetics.to_csv(\"../data/processed/final_samples_with_gravity_magnetics.csv\", index=False)\n",
    "print(\"Saved: final_samples_with_gravity_magnetics.csv\")"
   ]
  },
  {
   "cell_type": "markdown",
   "metadata": {},
   "source": [
    "## 3.Radiometric Features Extraction\n",
    "\n",
    "We extracted radiometric features from filtered and ratio-based GeoTIFF datasets published by Geoscience Australia. These grids represent the concentrations of naturally occurring radioactive elements (Potassium, Thorium, and Uranium), and their ratios, which are useful indicators of:\n",
    "\n",
    "- Rock types and weathering profiles,\n",
    "\n",
    "- Hydrothermal alteration zones,\n",
    "\n",
    "- Potential ore-related geochemical anomalies.\n",
    "\n",
    "Each GeoTIFF raster is georeferenced and contains a single float32 band, with a NoData value of -99999.0. All values were sampled at each training point's geographic coordinates and added as new columns.\n",
    "\n",
    "| Feature Name         | Source File                                             | Description |\n",
    "|----------------------|----------------------------------------------------------|-------------|\n",
    "| `radio_K_pct`        | `Radmap2019-grid-k_conc-Filtered-AWAGS_RAD_2019.tif`     | Filtered potassium concentration (%). Often elevated in felsic rocks or potassic alteration zones. |\n",
    "| `radio_Th_ppm`       | `Radmap2019-grid-th_conc-Filtered-AWAGS_RAD_2019.tif`    | Filtered thorium concentration (ppm). Typically enriched in residual soils and weathered felsic rocks. |\n",
    "| `radio_U_ppm`        | `Radmap2019-grid-u_conc-Filtered-AWAGS_RAD_2019.tif`     | Filtered uranium concentration (ppm). Sensitive to groundwater leaching, may indicate hydrothermal systems. |\n",
    "| `radio_Th_K_ratio`   | `Radmap2019-grid-thk_ratio-AWAGS_RAD_2019.tif`           | Thorium to potassium ratio. Useful for identifying weathered versus fresh bedrock. |\n",
    "| `radio_U_K_ratio`    | `Radmap2019-grid-uk_ratio-AWAGS_RAD_2019.tif`            | Uranium to potassium ratio. May highlight uranium-enriched zones relative to host lithology. |\n",
    "| `radio_U_Th_ratio`   | `Radmap2019-grid-uth_ratio-AWAGS_RAD_2019.tif`           | Uranium to thorium ratio. Often elevated in alteration zones or areas of uranium mobility. |\n",
    "\n",
    "**Processing Notes**\n",
    "- All rasters were sampled using bilinear or nearest-neighbor interpolation, depending on resolution alignment.\n",
    "\n",
    "- NoData values were excluded (-99999.0) and handled during model preprocessing.\n",
    "\n",
    "- Features are preserved in their raw units for modeling flexibility (e.g., log-transform or standardize if needed)."
   ]
  },
  {
   "cell_type": "code",
   "execution_count": 20,
   "metadata": {},
   "outputs": [],
   "source": [
    "radio_k_pct = \"../data/raw/Dataset/GA/Radiometric/Radmap2019-grid-k_conc-Filtered-AWAGS_RAD_2019.tif\"\n",
    "radio_Th_ppm = \"../data/raw/Dataset/GA/Radiometric/Radmap2019-grid-th_conc-Filtered-AWAGS_RAD_2019.tif\"\n",
    "radio_U_ppm = \"../data/raw/Dataset/GA/Radiometric/Radmap2019-grid-u_conc-Filtered-AWAGS_RAD_2019.tif\"\n",
    "radio_Th_K_ratio = \"../data/raw/Dataset/GA/Radiometric/Radmap2019-grid-thk_ratio-AWAGS_RAD_2019.tif\"\n",
    "radio_U_K_ratio = \"../data/raw/Dataset/GA/Radiometric/Radmap2019-grid-uk_ratio-AWAGS_RAD_2019.tif\"\n",
    "radio_U_Th_ratio = \"../data/raw/Dataset/GA/Radiometric/Radmap2019-grid-uth_ratio-AWAGS_RAD_2019.tif\""
   ]
  },
  {
   "cell_type": "code",
   "execution_count": 21,
   "metadata": {},
   "outputs": [
    {
     "name": "stdout",
     "output_type": "stream",
     "text": [
      " File: ../data/raw/Dataset/GA/Radiometric/Radmap2019-grid-k_conc-Filtered-AWAGS_RAD_2019.tif\n",
      " CRS: GEOGCS[\"GDA94\",DATUM[\"unnamed\",SPHEROID[\"unnamed\",6378137,298.257222101004]],PRIMEM[\"Greenwich\",0],UNIT[\"degree\",0.0174532925199433,AUTHORITY[\"EPSG\",\"9122\"]],AXIS[\"Latitude\",NORTH],AXIS[\"Longitude\",EAST]]\n",
      " Transform (Affine): | 0.00, 0.00, 112.90|\n",
      "| 0.00,-0.00,-9.00|\n",
      "| 0.00, 0.00, 1.00|\n",
      " Bounds: BoundingBox(left=112.899, bottom=-43.761, right=153.671, top=-8.999)\n",
      " Bands: 1\n",
      " Data type: ('float32',)\n",
      " NoData value: -99999.0\n",
      " Width × Height (pixels): 40772 × 34762\n",
      " Band 1: min = -99999.0, max = 1370.40234375\n",
      "--------------------------------------------------\n",
      " File: ../data/raw/Dataset/GA/Radiometric/Radmap2019-grid-th_conc-Filtered-AWAGS_RAD_2019.tif\n",
      " CRS: GEOGCS[\"GDA94\",DATUM[\"unnamed\",SPHEROID[\"unnamed\",6378137,298.257222101004]],PRIMEM[\"Greenwich\",0],UNIT[\"degree\",0.0174532925199433,AUTHORITY[\"EPSG\",\"9122\"]],AXIS[\"Latitude\",NORTH],AXIS[\"Longitude\",EAST]]\n",
      " Transform (Affine): | 0.00, 0.00, 112.90|\n",
      "| 0.00,-0.00,-9.00|\n",
      "| 0.00, 0.00, 1.00|\n",
      " Bounds: BoundingBox(left=112.899, bottom=-43.761, right=153.671, top=-8.999)\n",
      " Bands: 1\n",
      " Data type: ('float32',)\n",
      " NoData value: -99999.0\n",
      " Width × Height (pixels): 40772 × 34762\n",
      " Band 1: min = -99999.0, max = 1380.597412109375\n",
      "--------------------------------------------------\n",
      " File: ../data/raw/Dataset/GA/Radiometric/Radmap2019-grid-u_conc-Filtered-AWAGS_RAD_2019.tif\n",
      " CRS: GEOGCS[\"GDA94\",DATUM[\"unnamed\",SPHEROID[\"unnamed\",6378137,298.257222101004]],PRIMEM[\"Greenwich\",0],UNIT[\"degree\",0.0174532925199433,AUTHORITY[\"EPSG\",\"9122\"]],AXIS[\"Latitude\",NORTH],AXIS[\"Longitude\",EAST]]\n",
      " Transform (Affine): | 0.00, 0.00, 112.90|\n",
      "| 0.00,-0.00,-9.00|\n",
      "| 0.00, 0.00, 1.00|\n",
      " Bounds: BoundingBox(left=112.899, bottom=-43.761, right=153.671, top=-8.999)\n",
      " Bands: 1\n",
      " Data type: ('float32',)\n",
      " NoData value: -99999.0\n",
      " Width × Height (pixels): 40772 × 34762\n",
      " Band 1: min = -99999.0, max = 1371.326416015625\n",
      "--------------------------------------------------\n",
      " File: ../data/raw/Dataset/GA/Radiometric/Radmap2019-grid-thk_ratio-AWAGS_RAD_2019.tif\n",
      " CRS: GEOGCS[\"GDA94\",DATUM[\"unnamed\",SPHEROID[\"unnamed\",6378137,298.257222101004]],PRIMEM[\"Greenwich\",0],UNIT[\"degree\",0.0174532925199433,AUTHORITY[\"EPSG\",\"9122\"]],AXIS[\"Latitude\",NORTH],AXIS[\"Longitude\",EAST]]\n",
      " Transform (Affine): | 0.00, 0.00, 112.90|\n",
      "| 0.00,-0.00,-9.00|\n",
      "| 0.00, 0.00, 1.00|\n",
      " Bounds: BoundingBox(left=112.899, bottom=-43.761, right=153.671, top=-8.999)\n",
      " Bands: 1\n",
      " Data type: ('float32',)\n",
      " NoData value: -99999.0\n",
      " Width × Height (pixels): 40772 × 34762\n",
      " Band 1: min = -99999.0, max = 1630.201416015625\n",
      "--------------------------------------------------\n",
      " File: ../data/raw/Dataset/GA/Radiometric/Radmap2019-grid-uk_ratio-AWAGS_RAD_2019.tif\n",
      " CRS: GEOGCS[\"GDA94\",DATUM[\"unnamed\",SPHEROID[\"unnamed\",6378137,298.257222101004]],PRIMEM[\"Greenwich\",0],UNIT[\"degree\",0.0174532925199433,AUTHORITY[\"EPSG\",\"9122\"]],AXIS[\"Latitude\",NORTH],AXIS[\"Longitude\",EAST]]\n",
      " Transform (Affine): | 0.00, 0.00, 112.90|\n",
      "| 0.00,-0.00,-9.00|\n",
      "| 0.00, 0.00, 1.00|\n",
      " Bounds: BoundingBox(left=112.899, bottom=-43.761, right=153.671, top=-8.999)\n",
      " Bands: 1\n",
      " Data type: ('float32',)\n",
      " NoData value: -99999.0\n",
      " Width × Height (pixels): 40772 × 34762\n",
      " Band 1: min = -99999.0, max = 228.18048095703125\n",
      "--------------------------------------------------\n",
      " File: ../data/raw/Dataset/GA/Radiometric/Radmap2019-grid-uth_ratio-AWAGS_RAD_2019.tif\n",
      " CRS: GEOGCS[\"GDA94\",DATUM[\"unnamed\",SPHEROID[\"unnamed\",6378137,298.257222101004]],PRIMEM[\"Greenwich\",0],UNIT[\"degree\",0.0174532925199433,AUTHORITY[\"EPSG\",\"9122\"]],AXIS[\"Latitude\",NORTH],AXIS[\"Longitude\",EAST]]\n",
      " Transform (Affine): | 0.00, 0.00, 112.90|\n",
      "| 0.00,-0.00,-9.00|\n",
      "| 0.00, 0.00, 1.00|\n",
      " Bounds: BoundingBox(left=112.899, bottom=-43.761, right=153.671, top=-8.999)\n",
      " Bands: 1\n",
      " Data type: ('float32',)\n",
      " NoData value: -99999.0\n",
      " Width × Height (pixels): 40772 × 34762\n",
      " Band 1: min = -99999.0, max = 96.38191223144531\n",
      "--------------------------------------------------\n"
     ]
    }
   ],
   "source": [
    "inspect_geotiff_metadata(radio_k_pct)\n",
    "inspect_geotiff_metadata(radio_Th_ppm)\n",
    "inspect_geotiff_metadata(radio_U_ppm)\n",
    "inspect_geotiff_metadata(radio_Th_K_ratio)\n",
    "inspect_geotiff_metadata(radio_U_K_ratio)\n",
    "inspect_geotiff_metadata(radio_U_Th_ratio)"
   ]
  },
  {
   "cell_type": "code",
   "execution_count": 22,
   "metadata": {},
   "outputs": [],
   "source": [
    "tif_paths_radio = {\n",
    "    \"radio_K_pct\": \"../data/raw/Dataset/GA/Radiometric/Radmap2019-grid-k_conc-Filtered-AWAGS_RAD_2019.tif\",\n",
    "    \"radio_Th_ppm\": \"../data/raw/Dataset/GA/Radiometric/Radmap2019-grid-th_conc-Filtered-AWAGS_RAD_2019.tif\",\n",
    "    \"radio_U_ppm\": \"../data/raw/Dataset/GA/Radiometric/Radmap2019-grid-u_conc-Filtered-AWAGS_RAD_2019.tif\",\n",
    "    \"radio_U_K_ratio\": \"../data/raw/Dataset/GA/Radiometric/Radmap2019-grid-uk_ratio-AWAGS_RAD_2019.tif\",\n",
    "    \"radio_U_Th_ratio\": \"../data/raw/Dataset/GA/Radiometric/Radmap2019-grid-uth_ratio-AWAGS_RAD_2019.tif\",\n",
    "    \"radio_Th_K_ratio\": \"../data/raw/Dataset/GA/Radiometric/Radmap2019-grid-thk_ratio-AWAGS_RAD_2019.tif\"\n",
    "}"
   ]
  },
  {
   "cell_type": "code",
   "execution_count": 23,
   "metadata": {},
   "outputs": [
    {
     "name": "stdout",
     "output_type": "stream",
     "text": [
      "Extracting: radio_K_pct from ../data/raw/Dataset/GA/Radiometric/Radmap2019-grid-k_conc-Filtered-AWAGS_RAD_2019.tif\n",
      "Extracting: radio_Th_ppm from ../data/raw/Dataset/GA/Radiometric/Radmap2019-grid-th_conc-Filtered-AWAGS_RAD_2019.tif\n",
      "Extracting: radio_U_ppm from ../data/raw/Dataset/GA/Radiometric/Radmap2019-grid-u_conc-Filtered-AWAGS_RAD_2019.tif\n",
      "Extracting: radio_U_K_ratio from ../data/raw/Dataset/GA/Radiometric/Radmap2019-grid-uk_ratio-AWAGS_RAD_2019.tif\n",
      "Extracting: radio_U_Th_ratio from ../data/raw/Dataset/GA/Radiometric/Radmap2019-grid-uth_ratio-AWAGS_RAD_2019.tif\n",
      "Extracting: radio_Th_K_ratio from ../data/raw/Dataset/GA/Radiometric/Radmap2019-grid-thk_ratio-AWAGS_RAD_2019.tif\n"
     ]
    }
   ],
   "source": [
    "df_with_radiometric = extract_geotiff_features(\n",
    "    df=df_with_magnetics,\n",
    "    lat_col=\"LATITUDE\",\n",
    "    lon_col=\"LONGITUDE\",\n",
    "    tif_dict=tif_paths_radio\n",
    ")"
   ]
  },
  {
   "cell_type": "code",
   "execution_count": 24,
   "metadata": {},
   "outputs": [
    {
     "name": "stdout",
     "output_type": "stream",
     "text": [
      "Saved: final_samples_with_all_geophysical_features.csv\n"
     ]
    }
   ],
   "source": [
    "df_with_radiometric.to_csv(\"../data/processed/final_samples_with_gravity_magnetics_radiometric.csv\", index=False)\n",
    "print(\"Saved: final_samples_with_all_geophysical_features.csv\")"
   ]
  },
  {
   "cell_type": "markdown",
   "metadata": {},
   "source": [
    "## 4.Model Input Samples\n",
    "\n",
    "We constructed the final dataset for model training by integrating spatial coordinates, sample source tags, and a comprehensive suite of geophysical features derived from national-scale raster datasets provided by Geoscience Australia. The input features were selected based on their geological significance and relevance to porphyry copper mineralization.\n",
    "\n",
    "| Feature Group        | Fields Included                                                                                  |\n",
    "|----------------------|--------------------------------------------------------------------------------------------------|\n",
    "| **Spatial Coordinates** | `LONGITUDE`, `LATITUDE` — used for mapping, visualization, or spatial regularization              |\n",
    "| **Sample Source**        | `SOURCE` — denotes origin of the sample (positive, other deposit, blank area)                     |\n",
    "| **Gravity Features**     | `gravity_iso_residual`, `gravity_cscba`, `gravity_cscba_1vd`                                     |\n",
    "| **Magnetic Features**    | `mag_uc_1_2km`, `mag_uc_2_4km`, `mag_uc_4_8km`, `mag_uc_8_12km`, `mag_uc_12_16km`               |\n",
    "| **Radiometric Features** | `radio_K_pct`, `radio_Th_ppm`, `radio_U_ppm`, `radio_Th_K_ratio`, `radio_U_K_ratio`, `radio_U_Th_ratio` |\n",
    "| **Label (Target)**       | `LABEL` — binary class indicating presence or absence of porphyry copper mineralization           |\n",
    "\n",
    "\n",
    "**Notes**\n",
    "- All geophysical features were extracted from GeoTIFF raster grids using precise geographic sampling.\n",
    "\n",
    "- NoData values (-99999.0) were masked prior to modeling.\n",
    "\n",
    "- No transformations were applied at this stage; downstream models may include normalization, imputation, or feature engineering.\n",
    "\n",
    "- The resulting dataset was saved as model_input_samples.csv.\n",
    "\n",
    "\n"
   ]
  },
  {
   "cell_type": "code",
   "execution_count": 25,
   "metadata": {},
   "outputs": [],
   "source": [
    "features = [\n",
    "    \"LONGITUDE\", \"LATITUDE\", \"SOURCE\", \n",
    "    \"gravity_iso_residual\", \"gravity_cscba\", \"gravity_cscba_1vd\",\n",
    "    \"mag_uc_1_2km\", \"mag_uc_2_4km\", \"mag_uc_4_8km\", \"mag_uc_8_12km\", \"mag_uc_12_16km\",\n",
    "    \"radio_K_pct\", \"radio_Th_ppm\", \"radio_U_ppm\",\n",
    "    \"radio_Th_K_ratio\", \"radio_U_K_ratio\", \"radio_U_Th_ratio\",\n",
    "    \"LABEL\" \n",
    "]\n",
    "\n",
    "df_model = df_with_radiometric[features]\n",
    "df_model.to_csv(\"../data/processed/model_input_samples.csv\", index=False)\n"
   ]
  }
 ],
 "metadata": {
  "kernelspec": {
   "display_name": "geoenv",
   "language": "python",
   "name": "python3"
  },
  "language_info": {
   "codemirror_mode": {
    "name": "ipython",
    "version": 3
   },
   "file_extension": ".py",
   "mimetype": "text/x-python",
   "name": "python",
   "nbconvert_exporter": "python",
   "pygments_lexer": "ipython3",
   "version": "3.10.6"
  }
 },
 "nbformat": 4,
 "nbformat_minor": 2
}
