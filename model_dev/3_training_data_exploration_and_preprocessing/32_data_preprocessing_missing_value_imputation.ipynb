{
 "cells": [
  {
   "cell_type": "code",
   "execution_count": 2,
   "metadata": {},
   "outputs": [
    {
     "data": {
      "text/html": [
       "<div>\n",
       "<style scoped>\n",
       "    .dataframe tbody tr th:only-of-type {\n",
       "        vertical-align: middle;\n",
       "    }\n",
       "\n",
       "    .dataframe tbody tr th {\n",
       "        vertical-align: top;\n",
       "    }\n",
       "\n",
       "    .dataframe thead th {\n",
       "        text-align: right;\n",
       "    }\n",
       "</style>\n",
       "<table border=\"1\" class=\"dataframe\">\n",
       "  <thead>\n",
       "    <tr style=\"text-align: right;\">\n",
       "      <th></th>\n",
       "      <th>longitude</th>\n",
       "      <th>latitude</th>\n",
       "      <th>source</th>\n",
       "      <th>gravity_iso_residual</th>\n",
       "      <th>gravity_cscba</th>\n",
       "      <th>gravity_cscba_1vd</th>\n",
       "      <th>mag_uc_1_2km</th>\n",
       "      <th>mag_uc_2_4km</th>\n",
       "      <th>mag_uc_4_8km</th>\n",
       "      <th>mag_uc_8_12km</th>\n",
       "      <th>mag_uc_12_16km</th>\n",
       "      <th>radio_k_pct</th>\n",
       "      <th>radio_th_ppm</th>\n",
       "      <th>radio_u_ppm</th>\n",
       "      <th>radio_th_k_ratio</th>\n",
       "      <th>radio_u_k_ratio</th>\n",
       "      <th>radio_u_th_ratio</th>\n",
       "      <th>label</th>\n",
       "    </tr>\n",
       "  </thead>\n",
       "  <tbody>\n",
       "    <tr>\n",
       "      <th>0</th>\n",
       "      <td>134.324653</td>\n",
       "      <td>-27.294063</td>\n",
       "      <td>blank_area</td>\n",
       "      <td>-204.018005</td>\n",
       "      <td>-426.38882</td>\n",
       "      <td>-309.04285</td>\n",
       "      <td>-19.665098</td>\n",
       "      <td>-33.036575</td>\n",
       "      <td>-46.971394</td>\n",
       "      <td>-30.871347</td>\n",
       "      <td>-21.795435</td>\n",
       "      <td>0.759041</td>\n",
       "      <td>9.374757</td>\n",
       "      <td>1.196567</td>\n",
       "      <td>12.357069</td>\n",
       "      <td>1.577670</td>\n",
       "      <td>0.127658</td>\n",
       "      <td>0</td>\n",
       "    </tr>\n",
       "    <tr>\n",
       "      <th>1</th>\n",
       "      <td>148.050504</td>\n",
       "      <td>-32.937903</td>\n",
       "      <td>positive</td>\n",
       "      <td>93.298981</td>\n",
       "      <td>-186.38301</td>\n",
       "      <td>-2674.96260</td>\n",
       "      <td>-44.330212</td>\n",
       "      <td>23.895699</td>\n",
       "      <td>107.432144</td>\n",
       "      <td>82.715973</td>\n",
       "      <td>57.587337</td>\n",
       "      <td>1.154886</td>\n",
       "      <td>8.526972</td>\n",
       "      <td>1.396929</td>\n",
       "      <td>7.434864</td>\n",
       "      <td>1.215049</td>\n",
       "      <td>0.163990</td>\n",
       "      <td>1</td>\n",
       "    </tr>\n",
       "    <tr>\n",
       "      <th>2</th>\n",
       "      <td>119.027100</td>\n",
       "      <td>-22.975700</td>\n",
       "      <td>other_deposit</td>\n",
       "      <td>-200.687836</td>\n",
       "      <td>-739.63226</td>\n",
       "      <td>-1203.50880</td>\n",
       "      <td>-442.748383</td>\n",
       "      <td>-354.920288</td>\n",
       "      <td>-211.401382</td>\n",
       "      <td>-84.787079</td>\n",
       "      <td>-53.003239</td>\n",
       "      <td>0.126347</td>\n",
       "      <td>3.217272</td>\n",
       "      <td>0.572410</td>\n",
       "      <td>16.086359</td>\n",
       "      <td>2.862052</td>\n",
       "      <td>0.178862</td>\n",
       "      <td>0</td>\n",
       "    </tr>\n",
       "    <tr>\n",
       "      <th>3</th>\n",
       "      <td>121.464232</td>\n",
       "      <td>-23.649192</td>\n",
       "      <td>blank_area</td>\n",
       "      <td>-163.918274</td>\n",
       "      <td>-592.99493</td>\n",
       "      <td>-536.70370</td>\n",
       "      <td>18.632324</td>\n",
       "      <td>31.867907</td>\n",
       "      <td>50.295372</td>\n",
       "      <td>35.592964</td>\n",
       "      <td>25.073792</td>\n",
       "      <td>0.184210</td>\n",
       "      <td>3.271043</td>\n",
       "      <td>0.369300</td>\n",
       "      <td>16.355215</td>\n",
       "      <td>1.846498</td>\n",
       "      <td>0.113002</td>\n",
       "      <td>0</td>\n",
       "    </tr>\n",
       "    <tr>\n",
       "      <th>4</th>\n",
       "      <td>142.469900</td>\n",
       "      <td>-35.168600</td>\n",
       "      <td>other_deposit</td>\n",
       "      <td>-81.172989</td>\n",
       "      <td>-139.28423</td>\n",
       "      <td>-507.28357</td>\n",
       "      <td>-0.266748</td>\n",
       "      <td>-0.374094</td>\n",
       "      <td>-0.820666</td>\n",
       "      <td>-0.999457</td>\n",
       "      <td>-1.124462</td>\n",
       "      <td>0.413259</td>\n",
       "      <td>4.779623</td>\n",
       "      <td>0.953914</td>\n",
       "      <td>11.560739</td>\n",
       "      <td>2.311097</td>\n",
       "      <td>0.200272</td>\n",
       "      <td>0</td>\n",
       "    </tr>\n",
       "  </tbody>\n",
       "</table>\n",
       "</div>"
      ],
      "text/plain": [
       "    longitude   latitude         source  gravity_iso_residual  gravity_cscba  \\\n",
       "0  134.324653 -27.294063     blank_area           -204.018005     -426.38882   \n",
       "1  148.050504 -32.937903       positive             93.298981     -186.38301   \n",
       "2  119.027100 -22.975700  other_deposit           -200.687836     -739.63226   \n",
       "3  121.464232 -23.649192     blank_area           -163.918274     -592.99493   \n",
       "4  142.469900 -35.168600  other_deposit            -81.172989     -139.28423   \n",
       "\n",
       "   gravity_cscba_1vd  mag_uc_1_2km  mag_uc_2_4km  mag_uc_4_8km  mag_uc_8_12km  \\\n",
       "0         -309.04285    -19.665098    -33.036575    -46.971394     -30.871347   \n",
       "1        -2674.96260    -44.330212     23.895699    107.432144      82.715973   \n",
       "2        -1203.50880   -442.748383   -354.920288   -211.401382     -84.787079   \n",
       "3         -536.70370     18.632324     31.867907     50.295372      35.592964   \n",
       "4         -507.28357     -0.266748     -0.374094     -0.820666      -0.999457   \n",
       "\n",
       "   mag_uc_12_16km  radio_k_pct  radio_th_ppm  radio_u_ppm  radio_th_k_ratio  \\\n",
       "0      -21.795435     0.759041      9.374757     1.196567         12.357069   \n",
       "1       57.587337     1.154886      8.526972     1.396929          7.434864   \n",
       "2      -53.003239     0.126347      3.217272     0.572410         16.086359   \n",
       "3       25.073792     0.184210      3.271043     0.369300         16.355215   \n",
       "4       -1.124462     0.413259      4.779623     0.953914         11.560739   \n",
       "\n",
       "   radio_u_k_ratio  radio_u_th_ratio  label  \n",
       "0         1.577670          0.127658      0  \n",
       "1         1.215049          0.163990      1  \n",
       "2         2.862052          0.178862      0  \n",
       "3         1.846498          0.113002      0  \n",
       "4         2.311097          0.200272      0  "
      ]
     },
     "execution_count": 2,
     "metadata": {},
     "output_type": "execute_result"
    }
   ],
   "source": [
    "import pandas as pd\n",
    "\n",
    "# Load formatted dataset from previous step\n",
    "df = pd.read_csv(\"../../data/processed/train_dataset_formatted.csv\")\n",
    "df.head()"
   ]
  },
  {
   "cell_type": "markdown",
   "metadata": {},
   "source": [
    "## 1.Missing Values Summary\n",
    "Radiometric features such as radio_k_pct, radio_th_ppm, radio_u_ppm, and derived ratios show ~3% missing values, Gravity feature, gravity_iso_residual show ~0.3% missing values. Other geophysical features are complete."
   ]
  },
  {
   "cell_type": "code",
   "execution_count": 3,
   "metadata": {},
   "outputs": [
    {
     "name": "stdout",
     "output_type": "stream",
     "text": [
      "Missing Values Summary:\n"
     ]
    },
    {
     "data": {
      "text/plain": [
       "radio_k_pct             91\n",
       "radio_th_ppm            91\n",
       "radio_u_ppm             91\n",
       "radio_th_k_ratio        91\n",
       "radio_u_k_ratio         91\n",
       "radio_u_th_ratio        91\n",
       "gravity_iso_residual     9\n",
       "mag_uc_1_2km             1\n",
       "mag_uc_2_4km             1\n",
       "mag_uc_4_8km             1\n",
       "mag_uc_8_12km            1\n",
       "mag_uc_12_16km           1\n",
       "dtype: int64"
      ]
     },
     "metadata": {},
     "output_type": "display_data"
    },
    {
     "name": "stdout",
     "output_type": "stream",
     "text": [
      "Missing Value Percentage (%):\n"
     ]
    },
    {
     "data": {
      "text/plain": [
       "radio_k_pct             3.192982\n",
       "radio_th_ppm            3.192982\n",
       "radio_u_ppm             3.192982\n",
       "radio_th_k_ratio        3.192982\n",
       "radio_u_k_ratio         3.192982\n",
       "radio_u_th_ratio        3.192982\n",
       "gravity_iso_residual    0.315789\n",
       "mag_uc_1_2km            0.035088\n",
       "mag_uc_2_4km            0.035088\n",
       "mag_uc_4_8km            0.035088\n",
       "mag_uc_8_12km           0.035088\n",
       "mag_uc_12_16km          0.035088\n",
       "dtype: float64"
      ]
     },
     "metadata": {},
     "output_type": "display_data"
    }
   ],
   "source": [
    "# Count missing values for each column\n",
    "missing_summary = df.isnull().sum()\n",
    "missing_summary = missing_summary[missing_summary > 0].sort_values(ascending=False)\n",
    "\n",
    "print(\"Missing Values Summary:\")\n",
    "display(missing_summary)\n",
    "\n",
    "# Show percentage for easier interpretation\n",
    "missing_pct = (df.isnull().sum() / len(df)) * 100\n",
    "print(\"Missing Value Percentage (%):\")\n",
    "display(missing_pct[missing_pct > 0].sort_values(ascending=False))"
   ]
  },
  {
   "cell_type": "markdown",
   "metadata": {},
   "source": [
    "## 2. Missing Value Imputation Strategy\n",
    "\n",
    "Based on the EDA results, the dataset contains missing values primarily in radiometric features (approximately 3%) and marginally in one gravity feature (`gravity_iso_residual`, ~0.3%). The imputation strategy is determined by both statistical distribution and geological domain characteristics:\n",
    "\n",
    "- **Radiometric Features** (`radio_k_pct`, `radio_th_ppm`, `radio_u_ppm`, and derived ratios) exhibit strong right-skewed distributions and long tails due to natural variations in geochemical enrichment. These are highly sensitive to outliers.\n",
    "\n",
    "- **Gravity Feature** (`gravity_iso_residual`) is nearly normally distributed, with smooth variation and minimal skew, but has a small number of missing entries.\n",
    "\n",
    "- **Magnetic Feature**: Five upward-continued magnetic anomaly features (`mag_uc_*`) were found to contain one missing value each.\n",
    "\n",
    "This choice ensures consistency with other geophysical features while maintaining robustness against potential outliers or local noise.\n",
    "\n",
    "### Chosen Strategy:\n",
    "- **Median Imputation** is used for radiometric, gravity, and magnetic features. It is robust to outliers and ensures stable replacement, especially suitable for skewed or noisy geoscientific data.\n",
    "- Additionally, **group-wise median imputation by `source`** is optionally applied for radiometric variables to preserve localized geological context (e.g., different behavior in blank vs. deposit areas)."
   ]
  },
  {
   "cell_type": "code",
   "execution_count": 7,
   "metadata": {},
   "outputs": [
    {
     "name": "stdout",
     "output_type": "stream",
     "text": [
      "Applied group-wise median imputation by source.\n"
     ]
    }
   ],
   "source": [
    "# List of features to impute (with missing values)\n",
    "radiometric_features = [\n",
    "    'radio_k_pct', 'radio_th_ppm', 'radio_u_ppm',\n",
    "    'radio_th_k_ratio', 'radio_u_k_ratio', 'radio_u_th_ratio'\n",
    "]\n",
    "\n",
    "gravity_features = ['gravity_iso_residual']\n",
    "\n",
    "magnetic_features = ['mag_uc_1_2km', 'mag_uc_2_4km', 'mag_uc_4_8km', 'mag_uc_8_12km', 'mag_uc_12_16km']\n",
    "\n",
    "# --- Option 1: Global Median Imputation (Simple, Robust) ---\n",
    "#df[radiometric_features + gravity_features + magnetic_features] = df[radiometric_features + gravity_features + magnetic_features].fillna(\n",
    "#    df[radiometric_features + gravity_features].median()\n",
    "#)\n",
    "\n",
    "#print(\"Applied global median imputation.\")\n",
    "\n",
    "# --- Option 2: Group-wise Median Imputation by 'source' ---\n",
    "# Uncomment this if you prefer more geo-context-aware imputation\n",
    "for col in radiometric_features + gravity_features + magnetic_features:\n",
    "    df[col] = df.groupby('source')[col].transform(lambda x: x.fillna(x.median()))\n",
    "print(\"Applied group-wise median imputation by source.\")\n"
   ]
  },
  {
   "cell_type": "code",
   "execution_count": 8,
   "metadata": {},
   "outputs": [
    {
     "name": "stdout",
     "output_type": "stream",
     "text": [
      "Remaining missing values:\n"
     ]
    },
    {
     "data": {
      "text/plain": [
       "Series([], dtype: int64)"
      ]
     },
     "metadata": {},
     "output_type": "display_data"
    }
   ],
   "source": [
    "# Recheck missing values after imputation\n",
    "remaining_missing = df.isnull().sum()\n",
    "print(\"Remaining missing values:\")\n",
    "display(remaining_missing[remaining_missing > 0])"
   ]
  },
  {
   "cell_type": "code",
   "execution_count": 9,
   "metadata": {},
   "outputs": [
    {
     "name": "stdout",
     "output_type": "stream",
     "text": [
      "Cleaned dataset saved to 'train_dataset_formated_no_missing.csv'\n"
     ]
    }
   ],
   "source": [
    "df.to_csv(\"../../data/processed/train_dataset_formatted_no_missing.csv\", index=False)\n",
    "print(\"Cleaned dataset saved to 'train_dataset_formatted_no_missing.csv'\")"
   ]
  },
  {
   "cell_type": "markdown",
   "metadata": {},
   "source": [
    "## Missing Value Handling Summary\n",
    "\n",
    "- **Columns affected**: Radiometric element concentrations and ratios, gravity_iso_residual, and magnetic features.\n",
    "- **Imputation method used**: Median imputation.\n",
    "  - Chosen because these features are highly skewed and contain physical/geochemical measurement values.\n",
    "  - Median is robust to outliers and preserves distributional integrity.\n",
    "- **Validation**: All missing values resolved after imputation.\n",
    "- **Domain Justification**: Radiometric values are spatially interpolated from field measurements. Median preserves range while avoiding overfitting to extreme anomalies.\n"
   ]
  }
 ],
 "metadata": {
  "kernelspec": {
   "display_name": "geoenv",
   "language": "python",
   "name": "python3"
  },
  "language_info": {
   "codemirror_mode": {
    "name": "ipython",
    "version": 3
   },
   "file_extension": ".py",
   "mimetype": "text/x-python",
   "name": "python",
   "nbconvert_exporter": "python",
   "pygments_lexer": "ipython3",
   "version": "3.10.6"
  }
 },
 "nbformat": 4,
 "nbformat_minor": 2
}
