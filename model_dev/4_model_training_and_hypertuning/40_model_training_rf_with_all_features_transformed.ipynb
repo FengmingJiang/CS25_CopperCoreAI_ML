{
 "cells": [
  {
   "cell_type": "markdown",
   "metadata": {},
   "source": [
    "# Random Forest - Hyperparameter Tuning & Training (All Features)\n",
    "\n",
    "1. Define Random Forest model.\n",
    "2. Define hyperparameter search space.\n",
    "3. Use RandomizedSearchCV with Stratified K-Fold Cross-Validation on the resampled training data (all features).\n",
    "4. Find the best hyperparameters based on Average Precision score.\n",
    "5. Evaluate the best model on the validation set.\n",
    "6. Perform final evaluation on the test set.\n",
    "7. Save the best model."
   ]
  },
  {
   "cell_type": "code",
   "execution_count": 1,
   "metadata": {},
   "outputs": [],
   "source": [
    "import pandas as pd\n",
    "import numpy as np\n",
    "import joblib\n",
    "from sklearn.ensemble import RandomForestClassifier\n",
    "from sklearn.model_selection import RandomizedSearchCV, StratifiedKFold\n",
    "from sklearn.metrics import classification_report, roc_auc_score, average_precision_score, ConfusionMatrixDisplay, PrecisionRecallDisplay, RocCurveDisplay\n",
    "import matplotlib.pyplot as plt\n",
    "from scipy.stats import randint"
   ]
  },
  {
   "cell_type": "markdown",
   "metadata": {},
   "source": [
    "## 1. Load Data\n",
    "Load the datasets: resampled training set, scaled validation set, scaled test set."
   ]
  },
  {
   "cell_type": "code",
   "execution_count": 2,
   "metadata": {},
   "outputs": [
    {
     "name": "stdout",
     "output_type": "stream",
     "text": [
      "Data loaded successfully.\n",
      "X_train shape: (4762, 19)\n",
      "X_validate shape: (984, 19)\n",
      "X_test shape: (984, 19)\n"
     ]
    }
   ],
   "source": [
    "try:\n",
    "    X_train = pd.read_csv('../../data/processed/transformed/X_train_transform_scaled_resampled.csv') # Contains all features\n",
    "    y_train = pd.read_csv('../../data/processed/transformed/y_train_transform_scaled_resampled.csv')\n",
    "    X_val = pd.read_csv('../../data/processed/transformed/X_val_transform_scaled.csv') # Contains all features\n",
    "    y_val = pd.read_csv('../../data/processed/transformed/y_val_transform.csv')\n",
    "    X_test = pd.read_csv('../../data/processed/transformed/X_test_transform_scaled.csv') # Contains all features\n",
    "    y_test = pd.read_csv('../../data/processed/transformed/y_test_transform.csv')\n",
    "    print(\"Data loaded successfully.\")\n",
    "    print(\"X_train shape:\", X_train.shape)\n",
    "    print(\"X_validate shape:\", X_val.shape)\n",
    "    print(\"X_test shape:\", X_test.shape)\n",
    "except FileNotFoundError as e:\n",
    "    print(f\"Error loading data: {e}\")\n",
    "    print(\"Please ensure the data files are present in the correct paths.\")\n",
    "    # Exit or handle error appropriately\n",
    "    exit() # Simple exit for script-like execution in notebook"
   ]
  },
  {
   "cell_type": "markdown",
   "metadata": {},
   "source": [
    "## 2. Define Model and Hyperparameter Space"
   ]
  },
  {
   "cell_type": "code",
   "execution_count": 3,
   "metadata": {},
   "outputs": [],
   "source": [
    "# Define the base model\n",
    "rf = RandomForestClassifier(random_state=42, class_weight=None, n_jobs=-1) # class_weight=None as y_train is resampled"
   ]
  },
  {
   "cell_type": "code",
   "execution_count": 5,
   "metadata": {},
   "outputs": [],
   "source": [
    "# Define the parameter distribution for Randomized Search\n",
    "param_distributions = {\n",
    "    'n_estimators': randint(100, 601),       # Number of trees (e.g., 100 to 600)\n",
    "    'max_depth': [10, 20, 30, 40, None],      # Max depth of trees\n",
    "    'min_samples_split': randint(2, 11),    # Min samples to split node (e.g., 2 to 10)\n",
    "    'min_samples_leaf': randint(1, 5),      # Min samples per leaf node (e.g., 1 to 4)\n",
    "    'max_features': ['sqrt', 'log2', 0.5, None] # Number of features to consider for split\n",
    "    # 'criterion': ['gini', 'entropy']      # Split criterion\n",
    "}"
   ]
  },
  {
   "cell_type": "markdown",
   "metadata": {},
   "source": [
    "## 3. Setup Cross-Validation and Randomized Search"
   ]
  },
  {
   "cell_type": "code",
   "execution_count": 6,
   "metadata": {},
   "outputs": [],
   "source": [
    "# Stratified K-Fold for cross-validation within the training set\n",
    "cv_strategy = StratifiedKFold(n_splits=5, shuffle=True, random_state=42)"
   ]
  },
  {
   "cell_type": "code",
   "execution_count": 7,
   "metadata": {},
   "outputs": [],
   "source": [
    "# Randomized Search setup\n",
    "# n_iter = number of parameter settings sampled. Increase for better search, decrease for speed.\n",
    "# scoring = 'average_precision' is good for imbalanced problems (even if training data is balanced, validation/test are not)\n",
    "random_search = RandomizedSearchCV(\n",
    "    estimator=rf,\n",
    "    param_distributions=param_distributions,\n",
    "    n_iter=50,        # Adjust number of iterations\n",
    "    cv=cv_strategy,\n",
    "    scoring='average_precision',\n",
    "    n_jobs=-1,        # Use all cores\n",
    "    random_state=42,\n",
    "    verbose=1         # Show progress\n",
    ")"
   ]
  },
  {
   "cell_type": "markdown",
   "metadata": {},
   "source": [
    "## 4. Run Hyperparameter Search"
   ]
  },
  {
   "cell_type": "code",
   "execution_count": null,
   "metadata": {},
   "outputs": [
    {
     "name": "stdout",
     "output_type": "stream",
     "text": [
      "Starting Randomized Search CV for Random Forest (All Features)...\n",
      "Fitting 5 folds for each of 50 candidates, totalling 250 fits\n"
     ]
    }
   ],
   "source": [
    "print(\"Starting Randomized Search CV for Random Forest (All Features)...\")\n",
    "# Fit on the resampled training data\n",
    "random_search.fit(X_train, y_train)\n",
    "print(\"Search complete.\")"
   ]
  }
 ],
 "metadata": {
  "kernelspec": {
   "display_name": "geoenv",
   "language": "python",
   "name": "python3"
  },
  "language_info": {
   "codemirror_mode": {
    "name": "ipython",
    "version": 3
   },
   "file_extension": ".py",
   "mimetype": "text/x-python",
   "name": "python",
   "nbconvert_exporter": "python",
   "pygments_lexer": "ipython3",
   "version": "3.10.6"
  }
 },
 "nbformat": 4,
 "nbformat_minor": 2
}
