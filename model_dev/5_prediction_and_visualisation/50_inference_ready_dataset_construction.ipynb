{
 "cells": [
  {
   "cell_type": "markdown",
   "metadata": {},
   "source": [
    "This notebook constructs an inference-ready dataset from raw spatial sample points.\n",
    "It applies the same preprocessing pipeline used for training data to ensure consistency with the trained model."
   ]
  },
  {
   "cell_type": "code",
   "execution_count": 1,
   "metadata": {},
   "outputs": [],
   "source": [
    "QLD_BOUNDS = {\n",
    "    \"lat_min\": -29.0,\n",
    "    \"lat_max\": -10.5,\n",
    "    \"lon_min\": 137.9,\n",
    "    \"lon_max\": 153.6\n",
    "}"
   ]
  },
  {
   "cell_type": "code",
   "execution_count": 18,
   "metadata": {},
   "outputs": [
    {
     "name": "stdout",
     "output_type": "stream",
     "text": [
      "Sampled 4310 regular grid points within QLD.\n"
     ]
    }
   ],
   "source": [
    "import geopandas as gpd\n",
    "import pandas as pd\n",
    "import numpy as np\n",
    "from shapely.geometry import Point\n",
    "\n",
    "# 1. Load QLD boundary\n",
    "gdf = gpd.read_file(\"../../data/raw/Dataset/australia_boundary/australian-states.json\")\n",
    "qld = gdf[gdf[\"STATE_NAME\"].str.lower() == \"queensland\"].to_crs(epsg=3577)\n",
    "\n",
    "# 2. Get bounding box\n",
    "minx, miny, maxx, maxy = qld.total_bounds\n",
    "\n",
    "# 3. Define grid spacing (in meters, since EPSG:3577 is in meters)\n",
    "spacing = 20000  # 20 km grid spacing\n",
    "x_coords = np.arange(minx, maxx, spacing)\n",
    "y_coords = np.arange(miny, maxy, spacing)\n",
    "\n",
    "# 4. Generate grid points\n",
    "grid_points = [Point(x, y) for x in x_coords for y in y_coords]\n",
    "\n",
    "# 5. Keep points within QLD\n",
    "grid_gdf = gpd.GeoDataFrame(geometry=grid_points, crs=\"EPSG:3577\")\n",
    "grid_gdf = grid_gdf[grid_gdf.within(qld.union_all())].reset_index(drop=True)\n",
    "\n",
    "# 6. Extract lat/lon\n",
    "grid_gdf[\"longitude\"] = grid_gdf.geometry.x\n",
    "grid_gdf[\"latitude\"] = grid_gdf.geometry.y\n",
    "\n",
    "# 7. Save to CSV\n",
    "grid_gdf[[\"latitude\", \"longitude\"]].to_csv(\"../../tests/data/user/qld_coords_only.csv\", index=False)\n",
    "\n",
    "print(f\"Sampled {len(grid_gdf)} regular grid points within QLD.\")\n"
   ]
  },
  {
   "cell_type": "code",
   "execution_count": 22,
   "metadata": {},
   "outputs": [
    {
     "name": "stdout",
     "output_type": "stream",
     "text": [
      "Sampled 16332 regular grid points within TAS.\n"
     ]
    }
   ],
   "source": [
    "qld = gdf[gdf[\"STATE_NAME\"].str.lower() == \"tasmania\"].to_crs(epsg=3577)\n",
    "\n",
    "# 2. Get bounding box\n",
    "minx, miny, maxx, maxy = qld.total_bounds\n",
    "\n",
    "# 3. Define grid spacing (in meters, since EPSG:3577 is in meters)\n",
    "spacing = 2000  # 2 km grid spacing\n",
    "x_coords = np.arange(minx, maxx, spacing)\n",
    "y_coords = np.arange(miny, maxy, spacing)\n",
    "\n",
    "# 4. Generate grid points\n",
    "grid_points = [Point(x, y) for x in x_coords for y in y_coords]\n",
    "\n",
    "# 5. Keep points within QLD\n",
    "grid_gdf = gpd.GeoDataFrame(geometry=grid_points, crs=\"EPSG:3577\")\n",
    "grid_gdf = grid_gdf[grid_gdf.within(qld.union_all())].reset_index(drop=True)\n",
    "\n",
    "# 6. Extract lat/lon\n",
    "grid_gdf[\"longitude\"] = grid_gdf.geometry.x\n",
    "grid_gdf[\"latitude\"] = grid_gdf.geometry.y\n",
    "\n",
    "# 7. Save to CSV\n",
    "grid_gdf[[\"latitude\", \"longitude\"]].to_csv(\"../../tests/data/user/tas_coords_only.csv\", index=False)\n",
    "\n",
    "print(f\"Sampled {len(grid_gdf)} regular grid points within TAS.\")"
   ]
  },
  {
   "cell_type": "code",
   "execution_count": 19,
   "metadata": {},
   "outputs": [
    {
     "name": "stdout",
     "output_type": "stream",
     "text": [
      "✅ full_features.csv generated, including all features\n"
     ]
    }
   ],
   "source": [
    "import pandas as pd\n",
    "import rasterio\n",
    "import numpy as np\n",
    "import os\n",
    "\n",
    "# load sampling points\n",
    "coords_df = pd.read_csv(\"../../tests/data/user/qld_coords_only.csv\")\n",
    "\n",
    "# set feature names\n",
    "FEATURE_COLUMNS = [\n",
    "    'gravity_iso_residual', 'gravity_cscba', 'gravity_cscba_1vd', 'gravity_iso_residual_stddev3x3', 'gravity_cscba_stddev3x3', \n",
    "    \n",
    "    'mag_uc_1_2km', 'mag_uc_2_4km', 'mag_uc_4_8km', 'mag_uc_8_12km', 'mag_uc_12_16km', 'mag_uc_2_4km_1vd', 'mag_uc_2_4km_thd', 'mag_uc_2_4km_stddev3x3', \n",
    "    \n",
    "    'radio_k_pct', 'radio_th_ppm', 'radio_u_ppm', 'radio_th_k_ratio', 'radio_u_k_ratio', 'radio_u_th_ratio'\n",
    "]\n",
    "\n",
    "geotiff_folder = \"../../tests/data/system\"\n",
    "geotiff_paths = {feature: os.path.join(geotiff_folder, f\"{feature}.tif\") for feature in FEATURE_COLUMNS}\n",
    "\n",
    "def extract_feature_values(df, tiff_path):\n",
    "    try:\n",
    "        with rasterio.open(tiff_path) as src:\n",
    "            coords = [(x, y) for x, y in zip(df[\"longitude\"], df[\"latitude\"])]\n",
    "            values = []\n",
    "            for val in src.sample(coords):\n",
    "                v = val[0]\n",
    "                if v == src.nodata or np.isnan(v):\n",
    "                    values.append(np.nan)\n",
    "                else:\n",
    "                    values.append(float(v))\n",
    "            return values\n",
    "    except Exception as e:\n",
    "        print(f\"Error extracting {tiff_path}: {e}\")\n",
    "        return [np.nan] * len(df)\n",
    "\n",
    "# extracting each features\n",
    "for feature, path in geotiff_paths.items():\n",
    "    if os.path.exists(path):\n",
    "        coords_df[feature] = extract_feature_values(coords_df, path)\n",
    "    else:\n",
    "        coords_df[feature] = np.nan\n",
    "\n",
    "# store as full_features.csv\n",
    "coords_df.to_csv(\"../../tests/data/user/qld_full_features.csv\", index=False)\n",
    "\n",
    "print(\"✅ qld_full_features.csv generated, including all features\")\n"
   ]
  },
  {
   "cell_type": "code",
   "execution_count": 23,
   "metadata": {},
   "outputs": [
    {
     "name": "stdout",
     "output_type": "stream",
     "text": [
      "tas_full_features.csv generated, including all features\n"
     ]
    }
   ],
   "source": [
    "import pandas as pd\n",
    "import rasterio\n",
    "import numpy as np\n",
    "import os\n",
    "\n",
    "# load sampling points\n",
    "coords_df = pd.read_csv(\"../../tests/data/user/tas_coords_only.csv\")\n",
    "\n",
    "# set feature names\n",
    "FEATURE_COLUMNS = [\n",
    "    'gravity_iso_residual', 'gravity_cscba', 'gravity_cscba_1vd', 'gravity_iso_residual_stddev3x3', 'gravity_cscba_stddev3x3', \n",
    "    \n",
    "    'mag_uc_1_2km', 'mag_uc_2_4km', 'mag_uc_4_8km', 'mag_uc_8_12km', 'mag_uc_12_16km', 'mag_uc_2_4km_1vd', 'mag_uc_2_4km_thd', 'mag_uc_2_4km_stddev3x3', \n",
    "    \n",
    "    'radio_k_pct', 'radio_th_ppm', 'radio_u_ppm', 'radio_th_k_ratio', 'radio_u_k_ratio', 'radio_u_th_ratio'\n",
    "]\n",
    "\n",
    "geotiff_folder = \"../../tests/data/system\"\n",
    "geotiff_paths = {feature: os.path.join(geotiff_folder, f\"{feature}.tif\") for feature in FEATURE_COLUMNS}\n",
    "\n",
    "def extract_feature_values(df, tiff_path):\n",
    "    try:\n",
    "        with rasterio.open(tiff_path) as src:\n",
    "            coords = [(x, y) for x, y in zip(df[\"longitude\"], df[\"latitude\"])]\n",
    "            values = []\n",
    "            for val in src.sample(coords):\n",
    "                v = val[0]\n",
    "                if v == src.nodata or np.isnan(v):\n",
    "                    values.append(np.nan)\n",
    "                else:\n",
    "                    values.append(float(v))\n",
    "            return values\n",
    "    except Exception as e:\n",
    "        print(f\"Error extracting {tiff_path}: {e}\")\n",
    "        return [np.nan] * len(df)\n",
    "\n",
    "# extracting each features\n",
    "for feature, path in geotiff_paths.items():\n",
    "    if os.path.exists(path):\n",
    "        coords_df[feature] = extract_feature_values(coords_df, path)\n",
    "    else:\n",
    "        coords_df[feature] = np.nan\n",
    "\n",
    "# store as full_features.csv\n",
    "coords_df.to_csv(\"../../tests/data/user/tas_full_features.csv\", index=False)\n",
    "\n",
    "print(\"tas_full_features.csv generated, including all features\")\n"
   ]
  }
 ],
 "metadata": {
  "kernelspec": {
   "display_name": "geoenv",
   "language": "python",
   "name": "python3"
  },
  "language_info": {
   "codemirror_mode": {
    "name": "ipython",
    "version": 3
   },
   "file_extension": ".py",
   "mimetype": "text/x-python",
   "name": "python",
   "nbconvert_exporter": "python",
   "pygments_lexer": "ipython3",
   "version": "3.10.6"
  }
 },
 "nbformat": 4,
 "nbformat_minor": 2
}
