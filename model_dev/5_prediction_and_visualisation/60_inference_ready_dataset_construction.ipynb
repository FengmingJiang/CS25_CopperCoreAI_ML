{
 "cells": [
  {
   "cell_type": "markdown",
   "metadata": {},
   "source": [
    "This notebook constructs an inference-ready dataset from raw spatial sample points.\n",
    "It applies the same preprocessing pipeline used for training data to ensure consistency with the trained model."
   ]
  },
  {
   "cell_type": "code",
   "execution_count": 1,
   "metadata": {},
   "outputs": [],
   "source": [
    "QLD_BOUNDS = {\n",
    "    \"lat_min\": -29.0,\n",
    "    \"lat_max\": -10.5,\n",
    "    \"lon_min\": 137.9,\n",
    "    \"lon_max\": 153.6\n",
    "}"
   ]
  },
  {
   "cell_type": "code",
   "execution_count": 1,
   "metadata": {},
   "outputs": [],
   "source": [
    "import geopandas as gpd\n",
    "import pandas as pd\n",
    "import numpy as np\n",
    "from shapely.geometry import Point\n",
    "\n",
    "# 1. load GeoJSON\n",
    "gdf = gpd.read_file(\"../../data/raw/Dataset/australia_boundary/australian-states.json\")\n",
    "\n",
    "# 2. filter Queensland（QLD）\n",
    "qld = gdf[gdf[\"STATE_NAME\"].str.lower() == \"queensland\"]\n",
    "\n",
    "# 3. cast to proper CRS（EPSG:3577）\n",
    "qld = qld.to_crs(epsg=3577)\n",
    "\n",
    "# 4. extract QLD boundary\n",
    "minx, miny, maxx, maxy = qld.total_bounds\n",
    "\n",
    "# 5. sampling in QLD\n",
    "num_points = 30000\n",
    "points = []\n",
    "rng = np.random.default_rng(seed=42)\n",
    "\n",
    "while len(points) < num_points:\n",
    "    x = rng.uniform(minx, maxx)\n",
    "    y = rng.uniform(miny, maxy)\n",
    "    pt = Point(x, y)\n",
    "    if qld.contains(pt).any():\n",
    "        points.append(pt)\n",
    "\n",
    "# 6. store sampling points\n",
    "points_gdf = gpd.GeoDataFrame(geometry=points, crs=\"EPSG:3577\")\n",
    "\n",
    "# 7. return to WGS84（EPSG:4326）for geo feature extracting\n",
    "points_gdf = points_gdf.to_crs(epsg=4326)\n",
    "points_gdf[\"latitude\"] = points_gdf.geometry.y\n",
    "points_gdf[\"longitude\"] = points_gdf.geometry.x\n",
    "\n",
    "# 8. store as coords_only.csv\n",
    "points_gdf[[\"latitude\", \"longitude\"]].to_csv(\"../../tests/data/user/coords_only.csv\", index=False)\n"
   ]
  },
  {
   "cell_type": "code",
   "execution_count": 4,
   "metadata": {},
   "outputs": [
    {
     "name": "stdout",
     "output_type": "stream",
     "text": [
      "✅ full_features.csv generated, including all features\n"
     ]
    }
   ],
   "source": [
    "import pandas as pd\n",
    "import rasterio\n",
    "import numpy as np\n",
    "import os\n",
    "\n",
    "# load sampling points\n",
    "coords_df = pd.read_csv(\"../../tests/data/user/coords_only.csv\")\n",
    "\n",
    "# set feature names\n",
    "FEATURE_COLUMNS = [\n",
    "    \"gravity_iso_residual\",\n",
    "    \"gravity_cscba\",\n",
    "    \"gravity_cscba_1vd\",\n",
    "    \"mag_uc_1_2km\",\n",
    "    \"mag_uc_2_4km\",\n",
    "    \"mag_uc_4_8km\",\n",
    "    \"mag_uc_12_16km\",\n",
    "    \"radio_th_ppm\",\n",
    "    \"radio_u_ppm\",\n",
    "    \"radio_k_pct\",\n",
    "    \"radio_th_k_ratio\",\n",
    "    \"radio_u_k_ratio\",\n",
    "    \"radio_u_th_ratio\"\n",
    "]\n",
    "\n",
    "geotiff_folder = \"../../tests/data/system\"\n",
    "geotiff_paths = {feature: os.path.join(geotiff_folder, f\"{feature}.tif\") for feature in FEATURE_COLUMNS}\n",
    "\n",
    "def extract_feature_values(df, tiff_path):\n",
    "    try:\n",
    "        with rasterio.open(tiff_path) as src:\n",
    "            coords = [(x, y) for x, y in zip(df[\"longitude\"], df[\"latitude\"])]\n",
    "            values = []\n",
    "            for val in src.sample(coords):\n",
    "                v = val[0]\n",
    "                if v == src.nodata or np.isnan(v):\n",
    "                    values.append(np.nan)\n",
    "                else:\n",
    "                    values.append(float(v))\n",
    "            return values\n",
    "    except Exception as e:\n",
    "        print(f\"Error extracting {tiff_path}: {e}\")\n",
    "        return [np.nan] * len(df)\n",
    "\n",
    "# extracting each features\n",
    "for feature, path in geotiff_paths.items():\n",
    "    if os.path.exists(path):\n",
    "        coords_df[feature] = extract_feature_values(coords_df, path)\n",
    "    else:\n",
    "        coords_df[feature] = np.nan\n",
    "\n",
    "# store as full_features.csv\n",
    "coords_df.to_csv(\"../../tests/data/user/full_features.csv\", index=False)\n",
    "\n",
    "print(\"✅ full_features.csv generated, including all features\")\n"
   ]
  }
 ],
 "metadata": {
  "kernelspec": {
   "display_name": "geoenv",
   "language": "python",
   "name": "python3"
  },
  "language_info": {
   "codemirror_mode": {
    "name": "ipython",
    "version": 3
   },
   "file_extension": ".py",
   "mimetype": "text/x-python",
   "name": "python",
   "nbconvert_exporter": "python",
   "pygments_lexer": "ipython3",
   "version": "3.10.6"
  }
 },
 "nbformat": 4,
 "nbformat_minor": 2
}
