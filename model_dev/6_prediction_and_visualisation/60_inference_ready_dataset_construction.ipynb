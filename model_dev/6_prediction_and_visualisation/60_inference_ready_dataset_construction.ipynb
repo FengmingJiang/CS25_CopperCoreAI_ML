{
 "cells": [
  {
   "cell_type": "markdown",
   "metadata": {},
   "source": [
    "This notebook constructs an inference-ready dataset from raw spatial sample points (e.g., blank area samples).\n",
    "It applies the same preprocessing pipeline used for training data to ensure consistency with the trained model."
   ]
  },
  {
   "cell_type": "code",
   "execution_count": 5,
   "metadata": {},
   "outputs": [
    {
     "name": "stdout",
     "output_type": "stream",
     "text": [
      "Loaded 3979 samples.\n"
     ]
    }
   ],
   "source": [
    "import pandas as pd\n",
    "import numpy as np\n",
    "import joblib\n",
    "from pathlib import Path\n",
    "from sklearn.preprocessing import MinMaxScaler, RobustScaler\n",
    "\n",
    "# --- Step 1: Load blank area sample points ---\n",
    "df = pd.read_csv(\"../../data/processed/negative_blank_samples.csv\")\n",
    "print(f\"Loaded {df.shape[0]} samples.\")\n"
   ]
  },
  {
   "cell_type": "code",
   "execution_count": null,
   "metadata": {},
   "outputs": [],
   "source": []
  },
  {
   "cell_type": "code",
   "execution_count": null,
   "metadata": {},
   "outputs": [],
   "source": [
    "# --- Step 2: Load GeoTIFF-based feature data (already extracted) ---\n",
    "# This assumes you have run your 02_combine_features pipeline and saved the combined results.\n",
    "features_path = Path(\"data/blank_area_features_combined.csv\")\n",
    "df = pd.read_csv(features_path)\n",
    "\n",
    "# --- Step 3: Handle missing values (use same median as training set) ---\n",
    "train_medians = joblib.load(\"models/train_feature_medians.pkl\")  # precomputed from training set\n",
    "missing_cols = [col for col in train_medians.index if col in df.columns]\n",
    "df[missing_cols] = df[missing_cols].fillna(train_medians[missing_cols])\n",
    "\n",
    "# --- Step 4: Log transformation for radiometric features ---\n",
    "log_transform_cols = [\n",
    "    \"radio_th_ppm\", \"radio_u_ppm\", \"radio_k_pct\",\n",
    "    \"radio_u_th_ratio\", \"radio_th_k_ratio\", \"radio_u_k_ratio\"\n",
    "]\n",
    "for col in log_transform_cols:\n",
    "    df[f\"{col}_log\"] = df[col].apply(lambda x: np.log1p(x) if pd.notnull(x) and x >= 0 else 0)\n",
    "\n",
    "# --- Step 5: Clip magnetic features using training boundaries ---\n",
    "clip_mag_cols = [\n",
    "    \"mag_uc_1_2km\", \"mag_uc_2_4km\", \"mag_uc_4_8km\",\n",
    "    \"mag_uc_8_12km\", \"mag_uc_12_16km\"\n",
    "]\n",
    "clip_bounds = joblib.load(\"models/train_clip_bounds.pkl\")  # dict of {feature: (lower, upper)}\n",
    "for col in clip_mag_cols:\n",
    "    lower, upper = clip_bounds[col]\n",
    "    df[f\"{col}_clipped\"] = df[col].clip(lower=lower, upper=upper)\n",
    "\n",
    "# --- Step 6: Apply trained scalers ---\n",
    "scaler_features = joblib.load(\"models/final_selected_features.pkl\")  # list of selected features\n",
    "scaler_dict = {col: joblib.load(f\"models/scalers/{col}_scaler.pkl\") for col in scaler_features if Path(f\"models/scalers/{col}_scaler.pkl\").exists()}\n",
    "\n",
    "for col, scaler in scaler_dict.items():\n",
    "    df[col] = scaler.transform(df[[col]])\n",
    "\n",
    "# --- Step 7: Finalize inference dataset ---\n",
    "output_cols = [\"LONGITUDE\", \"LATITUDE\"] + scaler_features\n",
    "df_final = df[output_cols].copy()\n",
    "df_final.to_csv(\"data/inference_ready_dataset.csv\", index=False)\n",
    "print(\"Saved inference-ready dataset to data/inference_ready_dataset.csv\")"
   ]
  }
 ],
 "metadata": {
  "kernelspec": {
   "display_name": "geoenv",
   "language": "python",
   "name": "python3"
  },
  "language_info": {
   "codemirror_mode": {
    "name": "ipython",
    "version": 3
   },
   "file_extension": ".py",
   "mimetype": "text/x-python",
   "name": "python",
   "nbconvert_exporter": "python",
   "pygments_lexer": "ipython3",
   "version": "3.10.6"
  }
 },
 "nbformat": 4,
 "nbformat_minor": 2
}
