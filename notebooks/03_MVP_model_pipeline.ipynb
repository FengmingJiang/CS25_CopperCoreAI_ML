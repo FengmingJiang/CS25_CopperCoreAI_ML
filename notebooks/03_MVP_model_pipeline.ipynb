{
 "cells": [
  {
   "cell_type": "code",
   "execution_count": 11,
   "metadata": {},
   "outputs": [
    {
     "name": "stdout",
     "output_type": "stream",
     "text": [
      "Collecting seaborn\n",
      "  Using cached seaborn-0.13.2-py3-none-any.whl.metadata (5.4 kB)\n",
      "Requirement already satisfied: numpy!=1.24.0,>=1.20 in d:\\github\\fengmingjiang\\cs25_coppercoreai_ml\\geoenv\\lib\\site-packages (from seaborn) (1.25.2)\n",
      "Requirement already satisfied: pandas>=1.2 in d:\\github\\fengmingjiang\\cs25_coppercoreai_ml\\geoenv\\lib\\site-packages (from seaborn) (2.2.3)\n",
      "Requirement already satisfied: matplotlib!=3.6.1,>=3.4 in d:\\github\\fengmingjiang\\cs25_coppercoreai_ml\\geoenv\\lib\\site-packages (from seaborn) (3.10.1)\n",
      "Requirement already satisfied: contourpy>=1.0.1 in d:\\github\\fengmingjiang\\cs25_coppercoreai_ml\\geoenv\\lib\\site-packages (from matplotlib!=3.6.1,>=3.4->seaborn) (1.3.1)\n",
      "Requirement already satisfied: cycler>=0.10 in d:\\github\\fengmingjiang\\cs25_coppercoreai_ml\\geoenv\\lib\\site-packages (from matplotlib!=3.6.1,>=3.4->seaborn) (0.12.1)\n",
      "Requirement already satisfied: fonttools>=4.22.0 in d:\\github\\fengmingjiang\\cs25_coppercoreai_ml\\geoenv\\lib\\site-packages (from matplotlib!=3.6.1,>=3.4->seaborn) (4.57.0)\n",
      "Requirement already satisfied: kiwisolver>=1.3.1 in d:\\github\\fengmingjiang\\cs25_coppercoreai_ml\\geoenv\\lib\\site-packages (from matplotlib!=3.6.1,>=3.4->seaborn) (1.4.8)\n",
      "Requirement already satisfied: packaging>=20.0 in d:\\github\\fengmingjiang\\cs25_coppercoreai_ml\\geoenv\\lib\\site-packages (from matplotlib!=3.6.1,>=3.4->seaborn) (24.2)\n",
      "Requirement already satisfied: pillow>=8 in d:\\github\\fengmingjiang\\cs25_coppercoreai_ml\\geoenv\\lib\\site-packages (from matplotlib!=3.6.1,>=3.4->seaborn) (11.1.0)\n",
      "Requirement already satisfied: pyparsing>=2.3.1 in d:\\github\\fengmingjiang\\cs25_coppercoreai_ml\\geoenv\\lib\\site-packages (from matplotlib!=3.6.1,>=3.4->seaborn) (3.2.3)\n",
      "Requirement already satisfied: python-dateutil>=2.7 in d:\\github\\fengmingjiang\\cs25_coppercoreai_ml\\geoenv\\lib\\site-packages (from matplotlib!=3.6.1,>=3.4->seaborn) (2.9.0.post0)\n",
      "Requirement already satisfied: pytz>=2020.1 in d:\\github\\fengmingjiang\\cs25_coppercoreai_ml\\geoenv\\lib\\site-packages (from pandas>=1.2->seaborn) (2025.2)\n",
      "Requirement already satisfied: tzdata>=2022.7 in d:\\github\\fengmingjiang\\cs25_coppercoreai_ml\\geoenv\\lib\\site-packages (from pandas>=1.2->seaborn) (2025.2)\n",
      "Requirement already satisfied: six>=1.5 in d:\\github\\fengmingjiang\\cs25_coppercoreai_ml\\geoenv\\lib\\site-packages (from python-dateutil>=2.7->matplotlib!=3.6.1,>=3.4->seaborn) (1.17.0)\n",
      "Using cached seaborn-0.13.2-py3-none-any.whl (294 kB)\n",
      "Installing collected packages: seaborn\n",
      "Successfully installed seaborn-0.13.2\n",
      "Note: you may need to restart the kernel to use updated packages.\n"
     ]
    }
   ],
   "source": [
    "pip install seaborn"
   ]
  },
  {
   "cell_type": "code",
   "execution_count": 12,
   "metadata": {},
   "outputs": [
    {
     "name": "stdout",
     "output_type": "stream",
     "text": [
      "Collecting shap\n",
      "  Downloading shap-0.47.1-cp310-cp310-win_amd64.whl.metadata (25 kB)\n",
      "Requirement already satisfied: numpy in d:\\github\\fengmingjiang\\cs25_coppercoreai_ml\\geoenv\\lib\\site-packages (from shap) (1.25.2)\n",
      "Requirement already satisfied: scipy in d:\\github\\fengmingjiang\\cs25_coppercoreai_ml\\geoenv\\lib\\site-packages (from shap) (1.15.2)\n",
      "Requirement already satisfied: scikit-learn in d:\\github\\fengmingjiang\\cs25_coppercoreai_ml\\geoenv\\lib\\site-packages (from shap) (1.6.1)\n",
      "Requirement already satisfied: pandas in d:\\github\\fengmingjiang\\cs25_coppercoreai_ml\\geoenv\\lib\\site-packages (from shap) (2.2.3)\n",
      "Collecting tqdm>=4.27.0 (from shap)\n",
      "  Downloading tqdm-4.67.1-py3-none-any.whl.metadata (57 kB)\n",
      "Requirement already satisfied: packaging>20.9 in d:\\github\\fengmingjiang\\cs25_coppercoreai_ml\\geoenv\\lib\\site-packages (from shap) (24.2)\n",
      "Collecting slicer==0.0.8 (from shap)\n",
      "  Downloading slicer-0.0.8-py3-none-any.whl.metadata (4.0 kB)\n",
      "Collecting numba>=0.54 (from shap)\n",
      "  Downloading numba-0.61.2-cp310-cp310-win_amd64.whl.metadata (2.9 kB)\n",
      "Collecting cloudpickle (from shap)\n",
      "  Downloading cloudpickle-3.1.1-py3-none-any.whl.metadata (7.1 kB)\n",
      "Requirement already satisfied: typing-extensions in d:\\github\\fengmingjiang\\cs25_coppercoreai_ml\\geoenv\\lib\\site-packages (from shap) (4.13.1)\n",
      "Collecting llvmlite<0.45,>=0.44.0dev0 (from numba>=0.54->shap)\n",
      "  Downloading llvmlite-0.44.0-cp310-cp310-win_amd64.whl.metadata (5.0 kB)\n",
      "Requirement already satisfied: colorama in d:\\github\\fengmingjiang\\cs25_coppercoreai_ml\\geoenv\\lib\\site-packages (from tqdm>=4.27.0->shap) (0.4.6)\n",
      "Requirement already satisfied: python-dateutil>=2.8.2 in d:\\github\\fengmingjiang\\cs25_coppercoreai_ml\\geoenv\\lib\\site-packages (from pandas->shap) (2.9.0.post0)\n",
      "Requirement already satisfied: pytz>=2020.1 in d:\\github\\fengmingjiang\\cs25_coppercoreai_ml\\geoenv\\lib\\site-packages (from pandas->shap) (2025.2)\n",
      "Requirement already satisfied: tzdata>=2022.7 in d:\\github\\fengmingjiang\\cs25_coppercoreai_ml\\geoenv\\lib\\site-packages (from pandas->shap) (2025.2)\n",
      "Requirement already satisfied: joblib>=1.2.0 in d:\\github\\fengmingjiang\\cs25_coppercoreai_ml\\geoenv\\lib\\site-packages (from scikit-learn->shap) (1.4.2)\n",
      "Requirement already satisfied: threadpoolctl>=3.1.0 in d:\\github\\fengmingjiang\\cs25_coppercoreai_ml\\geoenv\\lib\\site-packages (from scikit-learn->shap) (3.6.0)\n",
      "Requirement already satisfied: six>=1.5 in d:\\github\\fengmingjiang\\cs25_coppercoreai_ml\\geoenv\\lib\\site-packages (from python-dateutil>=2.8.2->pandas->shap) (1.17.0)\n",
      "Downloading shap-0.47.1-cp310-cp310-win_amd64.whl (489 kB)\n",
      "Downloading slicer-0.0.8-py3-none-any.whl (15 kB)\n",
      "Downloading numba-0.61.2-cp310-cp310-win_amd64.whl (2.8 MB)\n",
      "   ---------------------------------------- 0.0/2.8 MB ? eta -:--:--\n",
      "   ---------------------------------------- 2.8/2.8 MB 40.8 MB/s eta 0:00:00\n",
      "Downloading tqdm-4.67.1-py3-none-any.whl (78 kB)\n",
      "Downloading cloudpickle-3.1.1-py3-none-any.whl (20 kB)\n",
      "Downloading llvmlite-0.44.0-cp310-cp310-win_amd64.whl (30.3 MB)\n",
      "   ---------------------------------------- 0.0/30.3 MB ? eta -:--:--\n",
      "   ---------------- ----------------------- 12.3/30.3 MB 59.1 MB/s eta 0:00:01\n",
      "   ----------------- ---------------------- 13.6/30.3 MB 56.9 MB/s eta 0:00:01\n",
      "   -------------------------------- ------- 24.4/30.3 MB 38.6 MB/s eta 0:00:01\n",
      "   ---------------------------------------- 30.3/30.3 MB 37.7 MB/s eta 0:00:00\n",
      "Installing collected packages: tqdm, slicer, llvmlite, cloudpickle, numba, shap\n",
      "Successfully installed cloudpickle-3.1.1 llvmlite-0.44.0 numba-0.61.2 shap-0.47.1 slicer-0.0.8 tqdm-4.67.1\n",
      "Note: you may need to restart the kernel to use updated packages.\n"
     ]
    }
   ],
   "source": [
    "pip install shap"
   ]
  },
  {
   "cell_type": "code",
   "execution_count": 18,
   "metadata": {},
   "outputs": [
    {
     "name": "stdout",
     "output_type": "stream",
     "text": [
      "\n",
      "Classification Report:\n",
      "              precision    recall  f1-score   support\n",
      "\n",
      "           0       0.94      0.95      0.94       380\n",
      "           1       0.89      0.88      0.89       190\n",
      "\n",
      "    accuracy                           0.93       570\n",
      "   macro avg       0.92      0.92      0.92       570\n",
      "weighted avg       0.93      0.93      0.93       570\n",
      "\n",
      "Confusion Matrix:\n",
      " [[360  20]\n",
      " [ 22 168]]\n",
      "ROC AUC: 0.9756440443213297\n"
     ]
    },
    {
     "data": {
      "image/png": "[encoded data removed]",
      "text/plain": [
       "<Figure size 600x400 with 1 Axes>"
      ]
     },
     "metadata": {},
     "output_type": "display_data"
    }
   ],
   "source": [
    "# 📦 MODEL TRAINING PIPELINE FOR GEOPHYSICAL FEATURES\n",
    "# Author: Fermi\n",
    "# Goal: From input features (gravity, magnetic, radiometric) to model evaluation\n",
    "\n",
    "# === 1. Import libraries ===\n",
    "import pandas as pd\n",
    "import numpy as np\n",
    "import matplotlib.pyplot as plt\n",
    "import seaborn as sns\n",
    "from sklearn.model_selection import train_test_split\n",
    "from sklearn.ensemble import RandomForestClassifier\n",
    "from sklearn.metrics import classification_report, confusion_matrix, roc_auc_score, roc_curve\n",
    "from sklearn.preprocessing import StandardScaler\n",
    "import shap\n",
    "\n",
    "# === 2. Load dataset ===\n",
    "df = pd.read_csv(\"../data/processed/model_input_samples.csv\")\n",
    "\n",
    "# === 3. Select features and label ===\n",
    "feature_cols = [\n",
    "    'gravity_iso_residual', 'gravity_cscba', 'gravity_cscba_1vd',\n",
    "    'mag_uc_1_2km', 'mag_uc_2_4km', 'mag_uc_4_8km', 'mag_uc_8_12km', 'mag_uc_12_16km',\n",
    "    'radio_K_pct', 'radio_Th_ppm', 'radio_U_ppm',\n",
    "    'radio_Th_K_ratio', 'radio_U_K_ratio', 'radio_U_Th_ratio'\n",
    "]\n",
    "X = df[feature_cols]\n",
    "y = df['LABEL']\n",
    "\n",
    "# === 4. Handle missing values ===\n",
    "X = X.fillna(X.median())  # Simple imputation for now\n",
    "\n",
    "# === 5. Train-test split ===\n",
    "X_train, X_test, y_train, y_test = train_test_split(X, y, test_size=0.2, stratify=y, random_state=42)\n",
    "\n",
    "# === 6. Feature scaling ===\n",
    "scaler = StandardScaler()\n",
    "X_train_scaled = scaler.fit_transform(X_train)\n",
    "X_test_scaled = scaler.transform(X_test)\n",
    "\n",
    "# === 7. Train baseline model ===\n",
    "model = RandomForestClassifier(n_estimators=100, random_state=42)\n",
    "model.fit(X_train_scaled, y_train)\n",
    "\n",
    "# === 8. Evaluate ===\n",
    "y_pred = model.predict(X_test_scaled)\n",
    "y_prob = model.predict_proba(X_test_scaled)[:, 1]\n",
    "\n",
    "print(\"\\nClassification Report:\")\n",
    "print(classification_report(y_test, y_pred))\n",
    "print(\"Confusion Matrix:\\n\", confusion_matrix(y_test, y_pred))\n",
    "print(\"ROC AUC:\", roc_auc_score(y_test, y_prob))\n",
    "\n",
    "# === 9. ROC Curve ===\n",
    "fpr, tpr, _ = roc_curve(y_test, y_prob)\n",
    "plt.figure(figsize=(6,4))\n",
    "plt.plot(fpr, tpr, label='ROC curve')\n",
    "plt.plot([0, 1], [0, 1], 'k--')\n",
    "plt.xlabel('False Positive Rate')\n",
    "plt.ylabel('True Positive Rate')\n",
    "plt.title('ROC Curve')\n",
    "plt.legend()\n",
    "plt.show()\n",
    "\n",
    "# === END ==="
   ]
  }
 ],
 "metadata": {
  "kernelspec": {
   "display_name": "Python (geoenv)",
   "language": "python",
   "name": "geoenv"
  },
  "language_info": {
   "codemirror_mode": {
    "name": "ipython",
    "version": 3
   },
   "file_extension": ".py",
   "mimetype": "text/x-python",
   "name": "python",
   "nbconvert_exporter": "python",
   "pygments_lexer": "ipython3",
   "version": "3.10.6"
  }
 },
 "nbformat": 4,
 "nbformat_minor": 2
}
